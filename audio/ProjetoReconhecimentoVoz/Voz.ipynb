{
  "cells": [
    {
      "cell_type": "markdown",
      "metadata": {
        "id": "dHs6egShr_TS"
      },
      "source": [
        "# **Bibliotecas**"
      ]
    },
    {
      "cell_type": "code",
      "execution_count": 1,
      "metadata": {
        "colab": {
          "base_uri": "https://localhost:8080/"
        },
        "id": "k5VCSHimuwXD",
        "outputId": "6898dab9-cef2-4022-c91b-b9070b0b8403"
      },
      "outputs": [],
      "source": [
        "###################################################################################################\n",
        "#  Bibliotecas gerais\n",
        "#  Instalação\n",
        "\n",
        "#!pip install xlrd"
      ]
    },
    {
      "cell_type": "code",
      "execution_count": 2,
      "metadata": {
        "id": "IBxMK5jyu7U-"
      },
      "outputs": [],
      "source": [
        "###################################################################################################\n",
        "#  Bibliotecas gerais\n",
        "#  \n",
        "\n",
        "import pandas as pd\n",
        "import numpy as np\n",
        "import matplotlib.pyplot as plt\n",
        "import numpy.linalg as npl\n",
        "from numpy.linalg import matrix_rank"
      ]
    },
    {
      "cell_type": "code",
      "execution_count": 3,
      "metadata": {
        "colab": {
          "base_uri": "https://localhost:8080/"
        },
        "id": "fZ4KEPPomcJs",
        "outputId": "2d05f164-c2fd-44ae-fc4d-365bcdb7ed46"
      },
      "outputs": [],
      "source": [
        "###################################################################################################\n",
        "#  Bibliotecas gráfica\n",
        "#  Instalação\n",
        "\n",
        "#!pip install -U plotly\n",
        "# !pip install plotly==4.8.1\n",
        "\n",
        "# organização da planilha excel\n",
        "\n",
        "#!pip install nltk\n",
        "\n",
        "# Exportando figuras com melhores resoluções\n",
        "\n",
        "#!pip install -U kaleido\n",
        "\n",
        "#!add-apt-repository -y ppa:cran/poppler\n",
        "#!apt-get update\n",
        "#!apt-get install -y libpoppler-cpp-dev\n",
        "#!apt-get install poppler-utils"
      ]
    },
    {
      "cell_type": "code",
      "execution_count": 4,
      "metadata": {
        "id": "jHpSWFh9mwjE"
      },
      "outputs": [],
      "source": [
        "###################################################################################################\n",
        "#  Bibliotecas gráfica\n",
        "# \n",
        "# \n",
        "\n",
        "import plotly.express as px\n",
        "import plotly.figure_factory as ff\n",
        "\n",
        "from plotly.subplots import make_subplots\n",
        "import plotly.graph_objects as go\n",
        "\n",
        "# Diretório de imagens\n",
        "import os\n",
        "if not os.path.exists(\"images\"):\n",
        "    os.mkdir(\"images\")\n"
      ]
    },
    {
      "cell_type": "markdown",
      "metadata": {
        "id": "X3Dl30me1HZD"
      },
      "source": [
        "## **Controle**"
      ]
    },
    {
      "cell_type": "code",
      "execution_count": 5,
      "metadata": {
        "colab": {
          "base_uri": "https://localhost:8080/"
        },
        "id": "6MD7HGs91HAn",
        "outputId": "8c02fb5d-2cd5-40a7-c0b1-a8413d50ccf5"
      },
      "outputs": [],
      "source": [
        "###################################################################################################\n",
        "# Biblioteca de controle e sistemas dinâmicos\n",
        "# Instalação\n",
        "\n",
        "#!git clone https://github.com/python-control/python-control.git\n",
        "\n",
        "#!pip install slycot   # optional\n",
        "#!pip install control\n",
        "\n"
      ]
    },
    {
      "cell_type": "code",
      "execution_count": 6,
      "metadata": {
        "id": "Cvq7M0fhijrj"
      },
      "outputs": [],
      "source": [
        "###################################################################################################\n",
        "# Biblioteca de controle e sistemas dinâmicos\n",
        "# \n",
        "\n",
        "import control\n",
        "from control import impulse_response, step_response\n"
      ]
    },
    {
      "cell_type": "markdown",
      "metadata": {
        "id": "RZsoqRYYlf45"
      },
      "source": [
        "# **Funções proprietárias**"
      ]
    },
    {
      "cell_type": "code",
      "execution_count": 7,
      "metadata": {
        "id": "FO3VjK4Hljbp"
      },
      "outputs": [],
      "source": [
        "def graphics_plot(x, y, y_name, yaxes_title, title='Title', bins=1, x_tick=1, save=False):\n",
        "\n",
        "  '''\n",
        "  y = [y1, y2, y3, y4]\n",
        "\n",
        "  y_name = ['y1 name', 'y2 name', 'y3 name', 'y4 name']\n",
        "\n",
        "  bins = number of bins for x scale\n",
        "\n",
        "  title = 'Title'\n",
        "\n",
        "  yaxes_title = ['Title yaxes1', 'Title yaxes2', 'Title yaxes3', 'Title yaxes4']\n",
        "\n",
        "  x_tick = dtick for axis x\n",
        "\n",
        "  save = True -> save graphics as image (images/title.eps) \n",
        "  '''\n",
        "\n",
        "  # Create figure with secondary y-axis\n",
        "  fig = make_subplots(specs=[[{'secondary_y': True}]])\n",
        "\n",
        "  # Markers\n",
        "  markers = ['circle','star','diamond','x']\n",
        "\n",
        "  # Lines\n",
        "  dash = ['dash','dot','dashdot']\n",
        "\n",
        "  for i, v in enumerate(y):\n",
        "    \n",
        "    if (len(yaxes_title) == 1) | (i < len(y) - 1):\n",
        "      on = False\n",
        "    else:\n",
        "      on = True\n",
        "\n",
        "    if i == 0:\n",
        "      # Add traces\n",
        "      fig.add_trace(\n",
        "          go.Scatter(x=x,\n",
        "          y=v, name=y_name[i],\n",
        "          marker_symbol=markers[i],\n",
        "          marker_size=7,\n",
        "          mode='lines+markers',\n",
        "          line=dict(color='rgb(0, 0, 0)',\n",
        "          width=2)),\n",
        "          # line_shape='spline'),\n",
        "          secondary_y=False)\n",
        "      \n",
        "    else:\n",
        "      # Add traces\n",
        "      fig.add_trace(\n",
        "          go.Scatter(x=x,\n",
        "          y=v, name=y_name[i],\n",
        "          marker_symbol=markers[i],\n",
        "          marker_size=7,\n",
        "          mode='lines+markers',\n",
        "          line=dict(color='rgb(0, 0, 0)',\n",
        "          width=2,dash=dash[i-1])),\n",
        "          # line_shape='spline'),\n",
        "          secondary_y=on)\n",
        "  \n",
        "  # Add figure title\n",
        "  fig.update_layout(title_text=title)\n",
        "  \n",
        "  # Set x-axis title\n",
        "  fig.update_xaxes(title_text='Ano relativo')\n",
        "\n",
        "  # Set y-axes titles\n",
        "  if len(yaxes_title) > 1:\n",
        "    fig.update_yaxes(title_text='<b>'+ yaxes_title[0] +'</b>', secondary_y=False)\n",
        "    fig.update_yaxes(title_text='<b>'+ yaxes_title[1] +'</b>', secondary_y=True)\n",
        "  else:\n",
        "    fig.update_yaxes(title_text='<b>'+ yaxes_title[0] +'</b>', secondary_y=False)\n",
        "\n",
        "  \n",
        "  fig.update_xaxes(showgrid=True, gridwidth=1, gridcolor='black')\n",
        "  fig.update_yaxes(showgrid=False, gridwidth=1, gridcolor='black')\n",
        "\n",
        "  fig.update_xaxes(showline=True, linewidth=2, linecolor='black', mirror=True)\n",
        "  fig.update_yaxes(showline=True, linewidth=2, linecolor='black', mirror=True)\n",
        "\n",
        "  fig.update_layout(\n",
        "      paper_bgcolor='rgba(0,0,0,0)',\n",
        "      plot_bgcolor='rgba(0,0,0,0)'\n",
        "  )\n",
        "\n",
        "  fig.update_layout(\n",
        "      xaxis=dict(\n",
        "      tickmode='linear',\n",
        "      tick0=0,\n",
        "      dtick=x_tick\n",
        "  ))\n",
        "\n",
        "  fig.update_layout(legend=dict(\n",
        "    orientation='h',\n",
        "    yanchor='bottom',\n",
        "    y=1.01,\n",
        "    xanchor='right',\n",
        "    x=0.95\n",
        "  ))\n",
        "\n",
        "  fig.show()\n",
        "\n",
        "  if save:\n",
        "    fig.write_image('images/'+title+'.eps')"
      ]
    },
    {
      "cell_type": "markdown",
      "metadata": {
        "id": "i27P2x9hAou4"
      },
      "source": [
        "## **Geração de elipses para o resultado do GMM**"
      ]
    },
    {
      "cell_type": "code",
      "execution_count": 8,
      "metadata": {
        "id": "r-hIBlUzkkza"
      },
      "outputs": [],
      "source": [
        "def draw_ellipse(position, covariance, ax=None, **kwargs):\n",
        "   \n",
        "    ax = ax or plt.gca()\n",
        "    \n",
        "    # Rotaciona o conjunto de dados para alinhamento com a convariância\n",
        "    if covariance.shape == (2, 2):\n",
        "        U, s, Vt = np.linalg.svd(covariance)\n",
        "        angle = np.degrees(np.arctan2(U[1, 0], U[0, 0]))\n",
        "        width, height = 2 * np.sqrt(s)\n",
        "    else:\n",
        "        angle = 0\n",
        "        width, height = 2 * np.sqrt(covariance)\n",
        "    \n",
        "    # Cria e elipse\n",
        "    for nsig in range(1, 4):\n",
        "        ax.add_patch(Ellipse(position, nsig * width, nsig * height,\n",
        "                             angle, **kwargs))\n",
        "        \n",
        "def plot_gmm(gmm, X, label=True, ax=None):\n",
        "    ax = ax or plt.gca()\n",
        "    labels = gmm.fit(X).predict(X)\n",
        "    if label:\n",
        "        ax.scatter(X[:, 0], X[:, 1], c=labels, s=40, cmap='viridis', zorder=2)\n",
        "    else:\n",
        "        ax.scatter(X[:, 0], X[:, 1], s=40, zorder=2)\n",
        "    ax.axis('equal')\n",
        "    \n",
        "    w_factor = 0.2 / gmm.weights_.max()\n",
        "    for pos, covar, w in zip(gmm.means_, gmm.covariances_, gmm.weights_):\n",
        "        draw_ellipse(pos, covar, alpha=w * w_factor)"
      ]
    },
    {
      "cell_type": "markdown",
      "metadata": {
        "id": "StyUcMaIXvPU"
      },
      "source": [
        "# **Dados**"
      ]
    },
    {
      "cell_type": "code",
      "execution_count": 53,
      "metadata": {
        "colab": {
          "base_uri": "https://localhost:8080/",
          "height": 204
        },
        "id": "FtnIzv-rXxN_",
        "outputId": "19999346-1729-4bb8-f756-e0a09d8be765"
      },
      "outputs": [
        {
          "data": {
            "text/html": [
              "<div>\n",
              "<style scoped>\n",
              "    .dataframe tbody tr th:only-of-type {\n",
              "        vertical-align: middle;\n",
              "    }\n",
              "\n",
              "    .dataframe tbody tr th {\n",
              "        vertical-align: top;\n",
              "    }\n",
              "\n",
              "    .dataframe thead th {\n",
              "        text-align: right;\n",
              "    }\n",
              "</style>\n",
              "<table border=\"1\" class=\"dataframe\">\n",
              "  <thead>\n",
              "    <tr style=\"text-align: right;\">\n",
              "      <th></th>\n",
              "      <th>Genero</th>\n",
              "      <th>Locutor</th>\n",
              "      <th>Tentativa</th>\n",
              "      <th>Fonema</th>\n",
              "      <th>fo</th>\n",
              "      <th>f1</th>\n",
              "      <th>f2</th>\n",
              "      <th>f3</th>\n",
              "    </tr>\n",
              "  </thead>\n",
              "  <tbody>\n",
              "    <tr>\n",
              "      <th>0</th>\n",
              "      <td>1</td>\n",
              "      <td>1</td>\n",
              "      <td>1</td>\n",
              "      <td>1</td>\n",
              "      <td>111.43</td>\n",
              "      <td>635.40</td>\n",
              "      <td>1099.2</td>\n",
              "      <td>2604.3</td>\n",
              "    </tr>\n",
              "    <tr>\n",
              "      <th>1</th>\n",
              "      <td>1</td>\n",
              "      <td>1</td>\n",
              "      <td>2</td>\n",
              "      <td>1</td>\n",
              "      <td>118.49</td>\n",
              "      <td>607.86</td>\n",
              "      <td>1067.4</td>\n",
              "      <td>2588.8</td>\n",
              "    </tr>\n",
              "    <tr>\n",
              "      <th>2</th>\n",
              "      <td>1</td>\n",
              "      <td>1</td>\n",
              "      <td>3</td>\n",
              "      <td>1</td>\n",
              "      <td>119.31</td>\n",
              "      <td>637.90</td>\n",
              "      <td>1163.5</td>\n",
              "      <td>2553.4</td>\n",
              "    </tr>\n",
              "    <tr>\n",
              "      <th>3</th>\n",
              "      <td>1</td>\n",
              "      <td>1</td>\n",
              "      <td>4</td>\n",
              "      <td>1</td>\n",
              "      <td>119.29</td>\n",
              "      <td>584.08</td>\n",
              "      <td>1183.2</td>\n",
              "      <td>2499.3</td>\n",
              "    </tr>\n",
              "    <tr>\n",
              "      <th>4</th>\n",
              "      <td>1</td>\n",
              "      <td>1</td>\n",
              "      <td>5</td>\n",
              "      <td>1</td>\n",
              "      <td>126.22</td>\n",
              "      <td>577.20</td>\n",
              "      <td>1142.2</td>\n",
              "      <td>2498.9</td>\n",
              "    </tr>\n",
              "  </tbody>\n",
              "</table>\n",
              "</div>"
            ],
            "text/plain": [
              "   Genero  Locutor  Tentativa  Fonema      fo      f1      f2      f3\n",
              "0       1        1          1       1  111.43  635.40  1099.2  2604.3\n",
              "1       1        1          2       1  118.49  607.86  1067.4  2588.8\n",
              "2       1        1          3       1  119.31  637.90  1163.5  2553.4\n",
              "3       1        1          4       1  119.29  584.08  1183.2  2499.3\n",
              "4       1        1          5       1  126.22  577.20  1142.2  2498.9"
            ]
          },
          "execution_count": 53,
          "metadata": {},
          "output_type": "execute_result"
        }
      ],
      "source": [
        "###################################################################################################\n",
        "# Lendo os dados\n",
        "\n",
        "vogais = pd.read_csv(\"vogais1.csv\")\n",
        "vogais.head()"
      ]
    },
    {
      "cell_type": "code",
      "execution_count": 54,
      "metadata": {
        "colab": {
          "base_uri": "https://localhost:8080/",
          "height": 295
        },
        "id": "CnQh0LJ6Zw1y",
        "outputId": "199f8118-06d5-4ce3-bde3-106dfab426bd"
      },
      "outputs": [
        {
          "data": {
            "image/png": "[encoded data removed]",
            "text/plain": [
              "<Figure size 432x288 with 1 Axes>"
            ]
          },
          "metadata": {
            "needs_background": "light"
          },
          "output_type": "display_data"
        }
      ],
      "source": [
        "###################################################################################################\n",
        "# Análise elementar dos dados\n",
        "\n",
        "### Análise por genero\n",
        "\n",
        "Homem   = vogais['Genero'] == 1\n",
        "Mulher  = vogais['Genero'] == 2\n",
        "Crianca = vogais['Genero'] == 3\n",
        "\n",
        "vogais[Homem].describe()\n",
        "vogais[Mulher].describe()\n",
        "vogais[Crianca].describe()\n",
        "\n",
        "### Separando os dataframes por genero\n",
        "\n",
        "vogaisH = vogais[Homem]\n",
        "vogaisM = vogais[Mulher]\n",
        "vogaisC = vogais[Crianca]\n",
        "\n",
        "### Capturando os tipos de fonemas\n",
        "\n",
        "fonemas = vogais['Fonema'].unique()\n",
        "\n",
        "### Analisando o espalhamento ntre os homens para o primeiro fonema\n",
        "\n",
        "formante1 = np.array(vogais['f1'][Homem])\n",
        "formante2 = np.array(vogais['f2'][Homem])\n",
        "\n",
        "### Gráficamente\n",
        "\n",
        "plt.scatter(formante1, formante2, alpha=0.5)\n",
        "plt.title('Formantes')\n",
        "plt.xlabel('Formante 1 em Hz')\n",
        "plt.ylabel('Formante 2 em Hz')\n",
        "plt.show()"
      ]
    },
    {
      "cell_type": "code",
      "execution_count": 55,
      "metadata": {
        "id": "QRDhx3fq35dP"
      },
      "outputs": [],
      "source": [
        "###################################################################################################\n",
        "# Codifica os fonemas\n",
        "# !pip install sklearn\n",
        "from sklearn.preprocessing import OrdinalEncoder\n",
        "\n",
        "ord_enc = OrdinalEncoder()\n",
        "vogais[\"Codigo\"] = ord_enc.fit_transform(vogais[[\"Fonema\"]])"
      ]
    },
    {
      "cell_type": "code",
      "execution_count": 56,
      "metadata": {
        "colab": {
          "base_uri": "https://localhost:8080/",
          "height": 559
        },
        "id": "FSRVfErL-azI",
        "outputId": "18b882ea-89a3-43cb-a76e-ed260d9c95dd"
      },
      "outputs": [
        {
          "data": {
            "application/vnd.plotly.v1+json": {
              "config": {
                "plotlyServerURL": "https://plot.ly"
              },
              "data": [
                {
                  "hovertemplate": "f1=%{x}<br>f2=%{y}<br>Fonema=%{marker.color}<extra></extra>",
                  "legendgroup": "",
                  "marker": {
                    "color": [
                      1,
                      1,
                      1,
                      1,
                      1,
                      2,
                      2,
                      2,
                      2,
                      2,
                      3,
                      3,
                      3,
                      3,
                      3,
                      4,
                      4,
                      4,
                      4,
                      4,
                      5,
                      5,
                      5,
                      5,
                      5,
                      1,
                      1,
                      1,
                      1,
                      1,
                      2,
                      2,
                      2,
                      2,
                      2,
                      3,
                      3,
                      3,
                      3,
                      3,
                      4,
                      4,
                      4,
                      4,
                      4,
                      5,
                      5,
                      5,
                      5,
                      5,
                      1,
                      1,
                      1,
                      1,
                      1,
                      2,
                      2,
                      2,
                      2,
                      2,
                      3,
                      3,
                      3,
                      3,
                      3,
                      4,
                      4,
                      4,
                      4,
                      4,
                      5,
                      5,
                      5,
                      5,
                      5,
                      1,
                      1,
                      1,
                      1,
                      1,
                      2,
                      2,
                      2,
                      2,
                      2,
                      3,
                      3,
                      3,
                      3,
                      3,
                      4,
                      4,
                      4,
                      4,
                      4,
                      5,
                      5,
                      5,
                      5,
                      5,
                      1,
                      1,
                      1,
                      1,
                      1,
                      2,
                      2,
                      2,
                      2,
                      2,
                      3,
                      3,
                      3,
                      3,
                      3,
                      4,
                      4,
                      4,
                      4,
                      4,
                      5,
                      5,
                      5,
                      5,
                      5,
                      1,
                      1,
                      1,
                      1,
                      1,
                      2,
                      2,
                      2,
                      2,
                      2,
                      3,
                      3,
                      3,
                      3,
                      3,
                      4,
                      4,
                      4,
                      4,
                      4,
                      5,
                      5,
                      5,
                      5,
                      5,
                      1,
                      1,
                      1,
                      1,
                      1,
                      2,
                      2,
                      2,
                      2,
                      2,
                      3,
                      3,
                      3,
                      3,
                      3,
                      4,
                      4,
                      4,
                      4,
                      4,
                      5,
                      5,
                      5,
                      5,
                      5,
                      1,
                      1,
                      1,
                      1,
                      1,
                      2,
                      2,
                      2,
                      2,
                      2,
                      3,
                      3,
                      3,
                      3,
                      3,
                      4,
                      4,
                      4,
                      4,
                      4,
                      5,
                      5,
                      5,
                      5,
                      5,
                      1,
                      1,
                      1,
                      1,
                      1,
                      2,
                      2,
                      2,
                      2,
                      2,
                      3,
                      3,
                      3,
                      3,
                      3,
                      4,
                      4,
                      4,
                      4,
                      4,
                      5,
                      5,
                      5,
                      5,
                      5,
                      1,
                      1,
                      1,
                      1,
                      1,
                      2,
                      2,
                      2,
                      2,
                      2,
                      3,
                      3,
                      3,
                      3,
                      3,
                      4,
                      4,
                      4,
                      4,
                      4,
                      5,
                      5,
                      5,
                      5,
                      5,
                      1,
                      1,
                      1,
                      1,
                      1,
                      2,
                      2,
                      2,
                      2,
                      2,
                      3,
                      3,
                      3,
                      3,
                      3,
                      4,
                      4,
                      4,
                      4,
                      4,
                      5,
                      5,
                      5,
                      5,
                      5,
                      1,
                      1,
                      1,
                      1,
                      1,
                      2,
                      2,
                      2,
                      2,
                      2,
                      3,
                      3,
                      3,
                      3,
                      3,
                      4,
                      4,
                      4,
                      4,
                      4,
                      5,
                      5,
                      5,
                      5,
                      5,
                      1,
                      1,
                      1,
                      1,
                      1,
                      2,
                      2,
                      2,
                      2,
                      2,
                      3,
                      3,
                      3,
                      3,
                      3,
                      4,
                      4,
                      4,
                      4,
                      4,
                      5,
                      5,
                      5,
                      5,
                      5,
                      1,
                      1,
                      1,
                      1,
                      1,
                      2,
                      2,
                      2,
                      2,
                      2,
                      3,
                      3,
                      3,
                      3,
                      3,
                      4,
                      4,
                      4,
                      4,
                      4,
                      5,
                      5,
                      5,
                      5,
                      5
                    ],
                    "coloraxis": "coloraxis",
                    "symbol": "circle"
                  },
                  "mode": "markers",
                  "name": "",
                  "orientation": "v",
                  "showlegend": false,
                  "type": "scatter",
                  "x": [
                    635.4,
                    607.86,
                    637.9,
                    584.08,
                    577.2,
                    463.79,
                    444.47,
                    482,
                    485.48,
                    510.71,
                    247.71,
                    308.9,
                    316.28,
                    345.26,
                    288.25,
                    473.05,
                    488.24,
                    466.21,
                    491.8,
                    468.68,
                    257.88,
                    273.17,
                    311.15,
                    289.75,
                    308.73,
                    651.15,
                    641.97,
                    653.56,
                    635.22,
                    651.07,
                    422.87,
                    314.79,
                    319.19,
                    300.09,
                    481.15,
                    226.92,
                    207.07,
                    272.8,
                    264.19,
                    262.98,
                    505.63,
                    485.56,
                    476.83,
                    479.61,
                    514.43,
                    289.37,
                    293.02,
                    278.91,
                    274,
                    269.43,
                    439.59,
                    429.49,
                    449.04,
                    443.58,
                    401.54,
                    419.36,
                    464.36,
                    452.9,
                    468.1,
                    584.12,
                    530.11,
                    388.63,
                    546.53,
                    495.52,
                    540.46,
                    434.08,
                    457.26,
                    414.28,
                    413.5,
                    466.15,
                    506.39,
                    568.5,
                    675.88,
                    507.27,
                    632.35,
                    515.49,
                    370.04,
                    453.14,
                    413.15,
                    398.28,
                    364.52,
                    409.57,
                    410.33,
                    398.62,
                    428.4,
                    279.63,
                    267.7,
                    277.7,
                    265.47,
                    297.72,
                    442.47,
                    468.46,
                    466.88,
                    457.13,
                    458.21,
                    318.82,
                    337.74,
                    341.36,
                    342.87,
                    345.32,
                    635.01,
                    657.59,
                    594.53,
                    648.88,
                    675.56,
                    504.83,
                    504.83,
                    491.69,
                    468.63,
                    476.26,
                    282.65,
                    265.58,
                    277.37,
                    275.98,
                    287.2,
                    517.98,
                    502.13,
                    527.35,
                    425.44,
                    529.95,
                    251.07,
                    247.15,
                    224.36,
                    213.16,
                    207.99,
                    646.08,
                    628.61,
                    620.6,
                    561.05,
                    620.95,
                    510.49,
                    550.37,
                    497.72,
                    527.24,
                    545.53,
                    266.2,
                    259.02,
                    223.37,
                    248.25,
                    249.07,
                    551.11,
                    495.54,
                    483.12,
                    463.69,
                    503.19,
                    205.82,
                    186.91,
                    172.27,
                    185,
                    229.53,
                    630,
                    730.9,
                    707.48,
                    717.93,
                    699.42,
                    542.18,
                    546.69,
                    539.41,
                    555.72,
                    558.3,
                    312.25,
                    301.54,
                    319.69,
                    317.03,
                    304.57,
                    528.88,
                    519.79,
                    515.62,
                    533.28,
                    527.49,
                    235.07,
                    258.32,
                    233.1,
                    246.16,
                    253.32,
                    544.11,
                    536.14,
                    512.38,
                    528.14,
                    528.28,
                    521.53,
                    529.02,
                    538.13,
                    545.74,
                    547.11,
                    289.23,
                    281.33,
                    287.36,
                    291.85,
                    273.81,
                    492.81,
                    496.29,
                    508.29,
                    516.06,
                    533.09,
                    325.04,
                    317.47,
                    317.8,
                    319.62,
                    321.41,
                    600.97,
                    576.78,
                    556.19,
                    556.13,
                    547.37,
                    497.95,
                    441.13,
                    404.37,
                    466.06,
                    464,
                    239.87,
                    293.64,
                    294.09,
                    303.69,
                    310.24,
                    455.9,
                    455.59,
                    450.61,
                    474.98,
                    451.1,
                    203.73,
                    216.59,
                    216.53,
                    210.98,
                    229.22,
                    757.73,
                    796.49,
                    822.18,
                    795.65,
                    779.75,
                    543.76,
                    547.36,
                    515,
                    534.06,
                    478.24,
                    208.06,
                    221.69,
                    238.83,
                    240.2,
                    222.43,
                    467.96,
                    352.76,
                    356.25,
                    350.51,
                    428.61,
                    260.8,
                    247.53,
                    257.3,
                    259.91,
                    255.1,
                    571.68,
                    590.04,
                    607.73,
                    576.47,
                    621.41,
                    545.51,
                    557.59,
                    526.43,
                    515.59,
                    579.97,
                    247.26,
                    273.55,
                    206.98,
                    249.91,
                    262.26,
                    551.2,
                    603.55,
                    566.41,
                    657.71,
                    510.13,
                    248.62,
                    246.15,
                    243.06,
                    246.34,
                    239.52,
                    659.71,
                    641.76,
                    651.17,
                    672.37,
                    661.3,
                    448.3,
                    483.2,
                    497.76,
                    463.6,
                    461.05,
                    237.89,
                    250.51,
                    242.75,
                    242.61,
                    238.8,
                    498.15,
                    482.96,
                    466.16,
                    471.12,
                    529.18,
                    243.06,
                    243.7,
                    239.04,
                    233,
                    225.69,
                    625.41,
                    653.79,
                    648.88,
                    624.33,
                    655.2,
                    477.59,
                    506.87,
                    499.75,
                    511.38,
                    522.07,
                    262.66,
                    283.19,
                    275.64,
                    295.33,
                    305.89,
                    542.18,
                    525.79,
                    553.55,
                    540.13,
                    563.87,
                    278.39,
                    300.23,
                    285.24,
                    285.6,
                    291.69,
                    1037.5,
                    888.17,
                    943.68,
                    737.3,
                    941.78,
                    451.56,
                    391.59,
                    433.22,
                    426.31,
                    459.72,
                    215.6,
                    224.69,
                    270.56,
                    212.75,
                    191.48,
                    471.02,
                    452.61,
                    359.19,
                    509.88,
                    493.53,
                    204.29,
                    205.57,
                    195.14,
                    270.64,
                    238.79
                  ],
                  "xaxis": "x",
                  "y": [
                    1099.2,
                    1067.4,
                    1163.5,
                    1183.2,
                    1142.2,
                    1801,
                    1858.8,
                    1759.6,
                    1780.1,
                    1719.7,
                    2239.1,
                    1939.4,
                    2076.6,
                    1922,
                    2143.1,
                    832.63,
                    868.95,
                    772.59,
                    877.2,
                    906.05,
                    817.1,
                    776.84,
                    558.52,
                    533.93,
                    791.87,
                    1283.8,
                    1204.3,
                    1283.7,
                    1301.3,
                    1265.7,
                    1824.5,
                    1897.3,
                    1951.9,
                    2036,
                    1843.7,
                    2205.1,
                    347.23,
                    2200.5,
                    2178.6,
                    2181.6,
                    894.01,
                    919.42,
                    879.86,
                    888.37,
                    907.38,
                    729.4,
                    679.13,
                    660.55,
                    654.28,
                    661.56,
                    1272,
                    1365.4,
                    1590.4,
                    1414.9,
                    1432.5,
                    907.82,
                    936.21,
                    935.52,
                    940.23,
                    935.39,
                    1128.4,
                    621,
                    1066.8,
                    959.25,
                    1013.6,
                    1415.1,
                    1348,
                    1357.9,
                    1274.2,
                    1337.7,
                    916.79,
                    976.79,
                    1328.7,
                    1042.4,
                    1340.9,
                    1184,
                    1106.1,
                    1124.1,
                    1111.4,
                    1157.2,
                    1675.4,
                    1596.9,
                    1454.8,
                    1556.7,
                    1596.3,
                    1917,
                    2077.2,
                    2102.4,
                    2091.6,
                    2208,
                    967.46,
                    1008.3,
                    1006.4,
                    1022.4,
                    961.85,
                    824.47,
                    806.91,
                    817.15,
                    814.46,
                    809.45,
                    1117.5,
                    1110.6,
                    1134.9,
                    1098.7,
                    1145,
                    1433.3,
                    1433.3,
                    1479.4,
                    1445.2,
                    1463.4,
                    1779,
                    1776.4,
                    1781,
                    1779.8,
                    1821.6,
                    957.03,
                    933.55,
                    954.15,
                    927.17,
                    966.16,
                    520.31,
                    563.59,
                    575.57,
                    610.12,
                    624.79,
                    1178.9,
                    1147.7,
                    1153.9,
                    1184.3,
                    1203.2,
                    1682.1,
                    1661.3,
                    1661,
                    1658.1,
                    1642.5,
                    2074.2,
                    2024.4,
                    2119.3,
                    1918,
                    2034.1,
                    972.42,
                    982.46,
                    987.94,
                    977.4,
                    972.91,
                    549.34,
                    529.44,
                    645.54,
                    614.23,
                    326.6,
                    1186.5,
                    1239,
                    1222,
                    1244.7,
                    1212.2,
                    1775.2,
                    1799.7,
                    1793.7,
                    1766.8,
                    1749,
                    1996.6,
                    2069.1,
                    2051.5,
                    2034.7,
                    2052.5,
                    934.53,
                    940.29,
                    939.74,
                    958.4,
                    941.84,
                    628.74,
                    692.67,
                    649.16,
                    654.08,
                    676.45,
                    1120.2,
                    1122.9,
                    1104.7,
                    1174.9,
                    1152.7,
                    1554.7,
                    1520.9,
                    1522.4,
                    1468.1,
                    1439.1,
                    2323.8,
                    2213.4,
                    2172.5,
                    2184.6,
                    2188.8,
                    990.56,
                    1006.9,
                    1023.6,
                    999.82,
                    995.7,
                    837.45,
                    853.02,
                    832.65,
                    840.5,
                    825.51,
                    1150.2,
                    1095.9,
                    1139.2,
                    1058.4,
                    1103.5,
                    1533.7,
                    1512.7,
                    1452.8,
                    1443.4,
                    1508.4,
                    2422.5,
                    2068.6,
                    1974,
                    1953.2,
                    1957.8,
                    964.89,
                    994.25,
                    1063.5,
                    1039.2,
                    1009.1,
                    741.17,
                    727.44,
                    782.33,
                    370.66,
                    726.74,
                    1098,
                    1187.5,
                    1138.8,
                    1153.4,
                    1158.7,
                    1807.6,
                    1780.9,
                    1790,
                    1812.5,
                    1752.6,
                    2030.2,
                    1972.4,
                    1995.8,
                    1973.4,
                    1986.2,
                    863.22,
                    840.9,
                    843.18,
                    875.46,
                    893.02,
                    757.77,
                    716.81,
                    742.34,
                    779.08,
                    760.93,
                    1284.7,
                    1349.4,
                    1260.3,
                    1284.2,
                    1236.2,
                    1680,
                    1733.8,
                    1700.3,
                    1729.8,
                    1685.7,
                    2077.3,
                    1969.8,
                    1851.3,
                    2000.9,
                    1994.5,
                    899.51,
                    614.57,
                    842.19,
                    2142.4,
                    958.35,
                    764.14,
                    761.85,
                    746.08,
                    760.54,
                    415.75,
                    1232.3,
                    1311.5,
                    1310.6,
                    1296,
                    1290.8,
                    1906.9,
                    1847.1,
                    1781.5,
                    1815.9,
                    1864.1,
                    2099.7,
                    2032.5,
                    1992.2,
                    2016.9,
                    2001.6,
                    896.7,
                    968.75,
                    955.78,
                    904.09,
                    922.48,
                    626.59,
                    657.75,
                    651.72,
                    646.63,
                    600.35,
                    1223.7,
                    1231.5,
                    1237.3,
                    1267.3,
                    1284,
                    1672.3,
                    1680.2,
                    1632.1,
                    1636.1,
                    1728.3,
                    2001.8,
                    2009.4,
                    2019,
                    2054.1,
                    2046.7,
                    924.07,
                    930.53,
                    970.3,
                    936,
                    995.58,
                    711.15,
                    721.56,
                    727.68,
                    718.44,
                    719.61,
                    1322,
                    1320.5,
                    1419.4,
                    1295.5,
                    1335.1,
                    2133.4,
                    2112.4,
                    2081.8,
                    2118.2,
                    2098.1,
                    1619.1,
                    2296.6,
                    1520.8,
                    1087.3,
                    1374.6,
                    896.28,
                    860.42,
                    864.01,
                    878.67,
                    870.59,
                    985.1,
                    240.85,
                    700.17,
                    1153.4,
                    1219.4
                  ],
                  "yaxis": "y"
                }
              ],
              "layout": {
                "coloraxis": {
                  "colorbar": {
                    "title": {
                      "text": "Fonema"
                    }
                  },
                  "colorscale": [
                    [
                      0,
                      "#0d0887"
                    ],
                    [
                      0.1111111111111111,
                      "#46039f"
                    ],
                    [
                      0.2222222222222222,
                      "#7201a8"
                    ],
                    [
                      0.3333333333333333,
                      "#9c179e"
                    ],
                    [
                      0.4444444444444444,
                      "#bd3786"
                    ],
                    [
                      0.5555555555555556,
                      "#d8576b"
                    ],
                    [
                      0.6666666666666666,
                      "#ed7953"
                    ],
                    [
                      0.7777777777777778,
                      "#fb9f3a"
                    ],
                    [
                      0.8888888888888888,
                      "#fdca26"
                    ],
                    [
                      1,
                      "#f0f921"
                    ]
                  ]
                },
                "legend": {
                  "tracegroupgap": 0
                },
                "margin": {
                  "t": 60
                },
                "paper_bgcolor": "rgba(0,0,0,0)",
                "plot_bgcolor": "rgba(0,0,0,0)",
                "template": {
                  "data": {
                    "bar": [
                      {
                        "error_x": {
                          "color": "#2a3f5f"
                        },
                        "error_y": {
                          "color": "#2a3f5f"
                        },
                        "marker": {
                          "line": {
                            "color": "#E5ECF6",
                            "width": 0.5
                          },
                          "pattern": {
                            "fillmode": "overlay",
                            "size": 10,
                            "solidity": 0.2
                          }
                        },
                        "type": "bar"
                      }
                    ],
                    "barpolar": [
                      {
                        "marker": {
                          "line": {
                            "color": "#E5ECF6",
                            "width": 0.5
                          },
                          "pattern": {
                            "fillmode": "overlay",
                            "size": 10,
                            "solidity": 0.2
                          }
                        },
                        "type": "barpolar"
                      }
                    ],
                    "carpet": [
                      {
                        "aaxis": {
                          "endlinecolor": "#2a3f5f",
                          "gridcolor": "white",
                          "linecolor": "white",
                          "minorgridcolor": "white",
                          "startlinecolor": "#2a3f5f"
                        },
                        "baxis": {
                          "endlinecolor": "#2a3f5f",
                          "gridcolor": "white",
                          "linecolor": "white",
                          "minorgridcolor": "white",
                          "startlinecolor": "#2a3f5f"
                        },
                        "type": "carpet"
                      }
                    ],
                    "choropleth": [
                      {
                        "colorbar": {
                          "outlinewidth": 0,
                          "ticks": ""
                        },
                        "type": "choropleth"
                      }
                    ],
                    "contour": [
                      {
                        "colorbar": {
                          "outlinewidth": 0,
                          "ticks": ""
                        },
                        "colorscale": [
                          [
                            0,
                            "#0d0887"
                          ],
                          [
                            0.1111111111111111,
                            "#46039f"
                          ],
                          [
                            0.2222222222222222,
                            "#7201a8"
                          ],
                          [
                            0.3333333333333333,
                            "#9c179e"
                          ],
                          [
                            0.4444444444444444,
                            "#bd3786"
                          ],
                          [
                            0.5555555555555556,
                            "#d8576b"
                          ],
                          [
                            0.6666666666666666,
                            "#ed7953"
                          ],
                          [
                            0.7777777777777778,
                            "#fb9f3a"
                          ],
                          [
                            0.8888888888888888,
                            "#fdca26"
                          ],
                          [
                            1,
                            "#f0f921"
                          ]
                        ],
                        "type": "contour"
                      }
                    ],
                    "contourcarpet": [
                      {
                        "colorbar": {
                          "outlinewidth": 0,
                          "ticks": ""
                        },
                        "type": "contourcarpet"
                      }
                    ],
                    "heatmap": [
                      {
                        "colorbar": {
                          "outlinewidth": 0,
                          "ticks": ""
                        },
                        "colorscale": [
                          [
                            0,
                            "#0d0887"
                          ],
                          [
                            0.1111111111111111,
                            "#46039f"
                          ],
                          [
                            0.2222222222222222,
                            "#7201a8"
                          ],
                          [
                            0.3333333333333333,
                            "#9c179e"
                          ],
                          [
                            0.4444444444444444,
                            "#bd3786"
                          ],
                          [
                            0.5555555555555556,
                            "#d8576b"
                          ],
                          [
                            0.6666666666666666,
                            "#ed7953"
                          ],
                          [
                            0.7777777777777778,
                            "#fb9f3a"
                          ],
                          [
                            0.8888888888888888,
                            "#fdca26"
                          ],
                          [
                            1,
                            "#f0f921"
                          ]
                        ],
                        "type": "heatmap"
                      }
                    ],
                    "heatmapgl": [
                      {
                        "colorbar": {
                          "outlinewidth": 0,
                          "ticks": ""
                        },
                        "colorscale": [
                          [
                            0,
                            "#0d0887"
                          ],
                          [
                            0.1111111111111111,
                            "#46039f"
                          ],
                          [
                            0.2222222222222222,
                            "#7201a8"
                          ],
                          [
                            0.3333333333333333,
                            "#9c179e"
                          ],
                          [
                            0.4444444444444444,
                            "#bd3786"
                          ],
                          [
                            0.5555555555555556,
                            "#d8576b"
                          ],
                          [
                            0.6666666666666666,
                            "#ed7953"
                          ],
                          [
                            0.7777777777777778,
                            "#fb9f3a"
                          ],
                          [
                            0.8888888888888888,
                            "#fdca26"
                          ],
                          [
                            1,
                            "#f0f921"
                          ]
                        ],
                        "type": "heatmapgl"
                      }
                    ],
                    "histogram": [
                      {
                        "marker": {
                          "pattern": {
                            "fillmode": "overlay",
                            "size": 10,
                            "solidity": 0.2
                          }
                        },
                        "type": "histogram"
                      }
                    ],
                    "histogram2d": [
                      {
                        "colorbar": {
                          "outlinewidth": 0,
                          "ticks": ""
                        },
                        "colorscale": [
                          [
                            0,
                            "#0d0887"
                          ],
                          [
                            0.1111111111111111,
                            "#46039f"
                          ],
                          [
                            0.2222222222222222,
                            "#7201a8"
                          ],
                          [
                            0.3333333333333333,
                            "#9c179e"
                          ],
                          [
                            0.4444444444444444,
                            "#bd3786"
                          ],
                          [
                            0.5555555555555556,
                            "#d8576b"
                          ],
                          [
                            0.6666666666666666,
                            "#ed7953"
                          ],
                          [
                            0.7777777777777778,
                            "#fb9f3a"
                          ],
                          [
                            0.8888888888888888,
                            "#fdca26"
                          ],
                          [
                            1,
                            "#f0f921"
                          ]
                        ],
                        "type": "histogram2d"
                      }
                    ],
                    "histogram2dcontour": [
                      {
                        "colorbar": {
                          "outlinewidth": 0,
                          "ticks": ""
                        },
                        "colorscale": [
                          [
                            0,
                            "#0d0887"
                          ],
                          [
                            0.1111111111111111,
                            "#46039f"
                          ],
                          [
                            0.2222222222222222,
                            "#7201a8"
                          ],
                          [
                            0.3333333333333333,
                            "#9c179e"
                          ],
                          [
                            0.4444444444444444,
                            "#bd3786"
                          ],
                          [
                            0.5555555555555556,
                            "#d8576b"
                          ],
                          [
                            0.6666666666666666,
                            "#ed7953"
                          ],
                          [
                            0.7777777777777778,
                            "#fb9f3a"
                          ],
                          [
                            0.8888888888888888,
                            "#fdca26"
                          ],
                          [
                            1,
                            "#f0f921"
                          ]
                        ],
                        "type": "histogram2dcontour"
                      }
                    ],
                    "mesh3d": [
                      {
                        "colorbar": {
                          "outlinewidth": 0,
                          "ticks": ""
                        },
                        "type": "mesh3d"
                      }
                    ],
                    "parcoords": [
                      {
                        "line": {
                          "colorbar": {
                            "outlinewidth": 0,
                            "ticks": ""
                          }
                        },
                        "type": "parcoords"
                      }
                    ],
                    "pie": [
                      {
                        "automargin": true,
                        "type": "pie"
                      }
                    ],
                    "scatter": [
                      {
                        "fillpattern": {
                          "fillmode": "overlay",
                          "size": 10,
                          "solidity": 0.2
                        },
                        "type": "scatter"
                      }
                    ],
                    "scatter3d": [
                      {
                        "line": {
                          "colorbar": {
                            "outlinewidth": 0,
                            "ticks": ""
                          }
                        },
                        "marker": {
                          "colorbar": {
                            "outlinewidth": 0,
                            "ticks": ""
                          }
                        },
                        "type": "scatter3d"
                      }
                    ],
                    "scattercarpet": [
                      {
                        "marker": {
                          "colorbar": {
                            "outlinewidth": 0,
                            "ticks": ""
                          }
                        },
                        "type": "scattercarpet"
                      }
                    ],
                    "scattergeo": [
                      {
                        "marker": {
                          "colorbar": {
                            "outlinewidth": 0,
                            "ticks": ""
                          }
                        },
                        "type": "scattergeo"
                      }
                    ],
                    "scattergl": [
                      {
                        "marker": {
                          "colorbar": {
                            "outlinewidth": 0,
                            "ticks": ""
                          }
                        },
                        "type": "scattergl"
                      }
                    ],
                    "scattermapbox": [
                      {
                        "marker": {
                          "colorbar": {
                            "outlinewidth": 0,
                            "ticks": ""
                          }
                        },
                        "type": "scattermapbox"
                      }
                    ],
                    "scatterpolar": [
                      {
                        "marker": {
                          "colorbar": {
                            "outlinewidth": 0,
                            "ticks": ""
                          }
                        },
                        "type": "scatterpolar"
                      }
                    ],
                    "scatterpolargl": [
                      {
                        "marker": {
                          "colorbar": {
                            "outlinewidth": 0,
                            "ticks": ""
                          }
                        },
                        "type": "scatterpolargl"
                      }
                    ],
                    "scatterternary": [
                      {
                        "marker": {
                          "colorbar": {
                            "outlinewidth": 0,
                            "ticks": ""
                          }
                        },
                        "type": "scatterternary"
                      }
                    ],
                    "surface": [
                      {
                        "colorbar": {
                          "outlinewidth": 0,
                          "ticks": ""
                        },
                        "colorscale": [
                          [
                            0,
                            "#0d0887"
                          ],
                          [
                            0.1111111111111111,
                            "#46039f"
                          ],
                          [
                            0.2222222222222222,
                            "#7201a8"
                          ],
                          [
                            0.3333333333333333,
                            "#9c179e"
                          ],
                          [
                            0.4444444444444444,
                            "#bd3786"
                          ],
                          [
                            0.5555555555555556,
                            "#d8576b"
                          ],
                          [
                            0.6666666666666666,
                            "#ed7953"
                          ],
                          [
                            0.7777777777777778,
                            "#fb9f3a"
                          ],
                          [
                            0.8888888888888888,
                            "#fdca26"
                          ],
                          [
                            1,
                            "#f0f921"
                          ]
                        ],
                        "type": "surface"
                      }
                    ],
                    "table": [
                      {
                        "cells": {
                          "fill": {
                            "color": "#EBF0F8"
                          },
                          "line": {
                            "color": "white"
                          }
                        },
                        "header": {
                          "fill": {
                            "color": "#C8D4E3"
                          },
                          "line": {
                            "color": "white"
                          }
                        },
                        "type": "table"
                      }
                    ]
                  },
                  "layout": {
                    "annotationdefaults": {
                      "arrowcolor": "#2a3f5f",
                      "arrowhead": 0,
                      "arrowwidth": 1
                    },
                    "autotypenumbers": "strict",
                    "coloraxis": {
                      "colorbar": {
                        "outlinewidth": 0,
                        "ticks": ""
                      }
                    },
                    "colorscale": {
                      "diverging": [
                        [
                          0,
                          "#8e0152"
                        ],
                        [
                          0.1,
                          "#c51b7d"
                        ],
                        [
                          0.2,
                          "#de77ae"
                        ],
                        [
                          0.3,
                          "#f1b6da"
                        ],
                        [
                          0.4,
                          "#fde0ef"
                        ],
                        [
                          0.5,
                          "#f7f7f7"
                        ],
                        [
                          0.6,
                          "#e6f5d0"
                        ],
                        [
                          0.7,
                          "#b8e186"
                        ],
                        [
                          0.8,
                          "#7fbc41"
                        ],
                        [
                          0.9,
                          "#4d9221"
                        ],
                        [
                          1,
                          "#276419"
                        ]
                      ],
                      "sequential": [
                        [
                          0,
                          "#0d0887"
                        ],
                        [
                          0.1111111111111111,
                          "#46039f"
                        ],
                        [
                          0.2222222222222222,
                          "#7201a8"
                        ],
                        [
                          0.3333333333333333,
                          "#9c179e"
                        ],
                        [
                          0.4444444444444444,
                          "#bd3786"
                        ],
                        [
                          0.5555555555555556,
                          "#d8576b"
                        ],
                        [
                          0.6666666666666666,
                          "#ed7953"
                        ],
                        [
                          0.7777777777777778,
                          "#fb9f3a"
                        ],
                        [
                          0.8888888888888888,
                          "#fdca26"
                        ],
                        [
                          1,
                          "#f0f921"
                        ]
                      ],
                      "sequentialminus": [
                        [
                          0,
                          "#0d0887"
                        ],
                        [
                          0.1111111111111111,
                          "#46039f"
                        ],
                        [
                          0.2222222222222222,
                          "#7201a8"
                        ],
                        [
                          0.3333333333333333,
                          "#9c179e"
                        ],
                        [
                          0.4444444444444444,
                          "#bd3786"
                        ],
                        [
                          0.5555555555555556,
                          "#d8576b"
                        ],
                        [
                          0.6666666666666666,
                          "#ed7953"
                        ],
                        [
                          0.7777777777777778,
                          "#fb9f3a"
                        ],
                        [
                          0.8888888888888888,
                          "#fdca26"
                        ],
                        [
                          1,
                          "#f0f921"
                        ]
                      ]
                    },
                    "colorway": [
                      "#636efa",
                      "#EF553B",
                      "#00cc96",
                      "#ab63fa",
                      "#FFA15A",
                      "#19d3f3",
                      "#FF6692",
                      "#B6E880",
                      "#FF97FF",
                      "#FECB52"
                    ],
                    "font": {
                      "color": "#2a3f5f"
                    },
                    "geo": {
                      "bgcolor": "white",
                      "lakecolor": "white",
                      "landcolor": "#E5ECF6",
                      "showlakes": true,
                      "showland": true,
                      "subunitcolor": "white"
                    },
                    "hoverlabel": {
                      "align": "left"
                    },
                    "hovermode": "closest",
                    "mapbox": {
                      "style": "light"
                    },
                    "paper_bgcolor": "white",
                    "plot_bgcolor": "#E5ECF6",
                    "polar": {
                      "angularaxis": {
                        "gridcolor": "white",
                        "linecolor": "white",
                        "ticks": ""
                      },
                      "bgcolor": "#E5ECF6",
                      "radialaxis": {
                        "gridcolor": "white",
                        "linecolor": "white",
                        "ticks": ""
                      }
                    },
                    "scene": {
                      "xaxis": {
                        "backgroundcolor": "#E5ECF6",
                        "gridcolor": "white",
                        "gridwidth": 2,
                        "linecolor": "white",
                        "showbackground": true,
                        "ticks": "",
                        "zerolinecolor": "white"
                      },
                      "yaxis": {
                        "backgroundcolor": "#E5ECF6",
                        "gridcolor": "white",
                        "gridwidth": 2,
                        "linecolor": "white",
                        "showbackground": true,
                        "ticks": "",
                        "zerolinecolor": "white"
                      },
                      "zaxis": {
                        "backgroundcolor": "#E5ECF6",
                        "gridcolor": "white",
                        "gridwidth": 2,
                        "linecolor": "white",
                        "showbackground": true,
                        "ticks": "",
                        "zerolinecolor": "white"
                      }
                    },
                    "shapedefaults": {
                      "line": {
                        "color": "#2a3f5f"
                      }
                    },
                    "ternary": {
                      "aaxis": {
                        "gridcolor": "white",
                        "linecolor": "white",
                        "ticks": ""
                      },
                      "baxis": {
                        "gridcolor": "white",
                        "linecolor": "white",
                        "ticks": ""
                      },
                      "bgcolor": "#E5ECF6",
                      "caxis": {
                        "gridcolor": "white",
                        "linecolor": "white",
                        "ticks": ""
                      }
                    },
                    "title": {
                      "x": 0.05
                    },
                    "xaxis": {
                      "automargin": true,
                      "gridcolor": "white",
                      "linecolor": "white",
                      "ticks": "",
                      "title": {
                        "standoff": 15
                      },
                      "zerolinecolor": "white",
                      "zerolinewidth": 2
                    },
                    "yaxis": {
                      "automargin": true,
                      "gridcolor": "white",
                      "linecolor": "white",
                      "ticks": "",
                      "title": {
                        "standoff": 15
                      },
                      "zerolinecolor": "white",
                      "zerolinewidth": 2
                    }
                  }
                },
                "xaxis": {
                  "anchor": "y",
                  "domain": [
                    0,
                    1
                  ],
                  "gridcolor": "black",
                  "gridwidth": 1,
                  "linecolor": "black",
                  "linewidth": 2,
                  "mirror": true,
                  "showgrid": true,
                  "showline": true,
                  "title": {
                    "text": "f1"
                  }
                },
                "yaxis": {
                  "anchor": "x",
                  "domain": [
                    0,
                    1
                  ],
                  "gridcolor": "black",
                  "gridwidth": 1,
                  "linecolor": "black",
                  "linewidth": 2,
                  "mirror": true,
                  "showgrid": false,
                  "showline": true,
                  "title": {
                    "text": "f2"
                  }
                }
              }
            }
          },
          "metadata": {},
          "output_type": "display_data"
        },
        {
          "data": {
            "text/plain": [
              "<Figure size 1080x504 with 0 Axes>"
            ]
          },
          "metadata": {},
          "output_type": "display_data"
        }
      ],
      "source": [
        "###################################################################################################\n",
        "# Visualiza os dados\n",
        "\n",
        "import plotly.express as px\n",
        "df = vogaisH\n",
        "plt.figure(figsize=(15,7))\n",
        "fig = px.scatter(df, x=\"f1\", y=\"f2\", color=\"Fonema\")\n",
        "\n",
        "fig.update_xaxes(showgrid=True, gridwidth=1, gridcolor='black')\n",
        "fig.update_yaxes(showgrid=False, gridwidth=1, gridcolor='black')\n",
        "\n",
        "fig.update_xaxes(showline=True, linewidth=2, linecolor='black', mirror=True)\n",
        "fig.update_yaxes(showline=True, linewidth=2, linecolor='black', mirror=True)\n",
        "\n",
        "fig.update_layout(\n",
        "      paper_bgcolor='rgba(0,0,0,0)',\n",
        "      plot_bgcolor='rgba(0,0,0,0)'\n",
        "  )\n",
        "fig.show()"
      ]
    },
    {
      "cell_type": "markdown",
      "metadata": {
        "id": "s4NLyJYKCRFV"
      },
      "source": [
        "# **Separando os fonemas**"
      ]
    },
    {
      "cell_type": "code",
      "execution_count": 57,
      "metadata": {
        "colab": {
          "base_uri": "https://localhost:8080/",
          "height": 497
        },
        "id": "7Ah9pkKRCUlb",
        "outputId": "27d1dcb0-c4f2-4825-8815-65e23ee2d8d9"
      },
      "outputs": [
        {
          "data": {
            "image/png": "[encoded data removed]",
            "text/plain": [
              "<Figure size 576x576 with 1 Axes>"
            ]
          },
          "metadata": {
            "needs_background": "light"
          },
          "output_type": "display_data"
        }
      ],
      "source": [
        "Freq = np.array([formante1,formante2]).T\n",
        "\n",
        "###################################################################################################\n",
        "# Gaussian Mixtures\n",
        "\n",
        "from sklearn.mixture import GaussianMixture\n",
        "\n",
        "n_components = np.arange(1, 21)\n",
        "models = [GaussianMixture(n, covariance_type='full', random_state=0).fit(Freq)\n",
        "          for n in n_components]\n",
        "plt.figure(figsize = (8,8))\n",
        "plt.plot(n_components, [m.bic(Freq) for m in models], label='BIC',linewidth = \"3\")\n",
        "plt.plot(n_components, [m.aic(Freq) for m in models], label='EIC',linewidth = \"3\")\n",
        "plt.legend(loc='best')\n",
        "plt.xlabel('Número de Componentes');"
      ]
    },
    {
      "cell_type": "code",
      "execution_count": 58,
      "metadata": {
        "colab": {
          "base_uri": "https://localhost:8080/",
          "height": 483
        },
        "id": "ruXVLFO_FKxe",
        "outputId": "578809fc-2773-4798-f1ff-27a1cc2dfe81"
      },
      "outputs": [
        {
          "data": {
            "image/png": "[encoded data removed]",
            "text/plain": [
              "<Figure size 576x576 with 1 Axes>"
            ]
          },
          "metadata": {
            "needs_background": "light"
          },
          "output_type": "display_data"
        }
      ],
      "source": [
        "###################################################################################################\n",
        "# Gaussian Mixtures - visualização\n",
        "\n",
        "from matplotlib.patches import Ellipse\n",
        "\n",
        "gmm2 = GaussianMixture(n_components=5, covariance_type='full', random_state=0)\n",
        "plt.figure(figsize = (8,8))\n",
        "plot_gmm(gmm2, Freq)"
      ]
    },
    {
      "cell_type": "code",
      "execution_count": 59,
      "metadata": {
        "colab": {
          "base_uri": "https://localhost:8080/"
        },
        "id": "5qv-jP3jG5lo",
        "outputId": "c187503c-5620-4931-9bf7-670eb6817f59"
      },
      "outputs": [
        {
          "data": {
            "text/plain": [
              "array([2, 2, 2, 2, 2, 1, 1, 1, 1, 1, 3, 3, 3, 3, 3, 4, 4, 4, 4, 4, 0, 0,\n",
              "       0, 0, 0, 2, 2, 2, 2, 2, 1, 3, 3, 3, 1, 3, 0, 3, 3, 3, 4, 4, 4, 4,\n",
              "       4, 0, 0, 0, 0, 0, 1, 1, 1, 1, 1, 4, 4, 4, 4, 4, 2, 0, 4, 4, 4, 1,\n",
              "       1, 1, 1, 1, 4, 4, 2, 4, 2, 2, 2, 2, 2, 2, 1, 1, 1, 1, 1, 3, 3, 3,\n",
              "       3, 3, 4, 4, 4, 4, 4, 0, 0, 0, 0, 0, 2, 2, 2, 2, 2, 1, 1, 1, 1, 1,\n",
              "       3, 3, 3, 3, 3, 4, 4, 4, 4, 4, 0, 0, 0, 0, 0, 2, 2, 2, 2, 2, 1, 1,\n",
              "       1, 1, 1, 3, 3, 3, 3, 3, 4, 4, 4, 4, 4, 0, 0, 0, 0, 0, 2, 2, 2, 2,\n",
              "       2, 1, 1, 1, 1, 1, 3, 3, 3, 3, 3, 4, 4, 4, 4, 4, 0, 0, 0, 0, 0, 2,\n",
              "       2, 2, 2, 2, 1, 1, 1, 1, 1, 3, 3, 3, 3, 3, 4, 4, 4, 4, 4, 0, 0, 0,\n",
              "       0, 0, 2, 2, 2, 4, 2, 1, 1, 1, 1, 1, 3, 3, 3, 3, 3, 4, 4, 4, 4, 4,\n",
              "       0, 0, 0, 0, 0, 2, 2, 2, 2, 2, 1, 1, 1, 1, 1, 3, 3, 3, 3, 3, 4, 0,\n",
              "       0, 0, 4, 0, 0, 0, 0, 0, 2, 2, 2, 2, 2, 1, 1, 1, 1, 1, 3, 3, 3, 3,\n",
              "       3, 4, 4, 4, 1, 4, 0, 0, 0, 0, 0, 2, 2, 2, 2, 2, 1, 1, 1, 1, 1, 3,\n",
              "       3, 3, 3, 3, 4, 4, 4, 4, 4, 0, 0, 0, 0, 0, 2, 2, 2, 2, 2, 1, 1, 1,\n",
              "       1, 1, 3, 3, 3, 3, 3, 4, 4, 4, 4, 4, 0, 0, 0, 0, 0, 2, 2, 2, 2, 2,\n",
              "       1, 1, 1, 1, 1, 3, 3, 1, 2, 1, 4, 4, 0, 4, 4, 2, 0, 0, 2, 2],\n",
              "      dtype=int64)"
            ]
          },
          "execution_count": 59,
          "metadata": {},
          "output_type": "execute_result"
        }
      ],
      "source": [
        "gmm2.fit_predict(Freq, y=None)"
      ]
    },
    {
      "cell_type": "code",
      "execution_count": 60,
      "metadata": {
        "colab": {
          "base_uri": "https://localhost:8080/",
          "height": 297
        },
        "id": "1VMMGxn8HIhA",
        "outputId": "66fd467f-1cca-4dee-d575-55c2e75fd1f1"
      },
      "outputs": [
        {
          "data": {
            "text/html": [
              "<div>\n",
              "<style scoped>\n",
              "    .dataframe tbody tr th:only-of-type {\n",
              "        vertical-align: middle;\n",
              "    }\n",
              "\n",
              "    .dataframe tbody tr th {\n",
              "        vertical-align: top;\n",
              "    }\n",
              "\n",
              "    .dataframe thead th {\n",
              "        text-align: right;\n",
              "    }\n",
              "</style>\n",
              "<table border=\"1\" class=\"dataframe\">\n",
              "  <thead>\n",
              "    <tr style=\"text-align: right;\">\n",
              "      <th></th>\n",
              "      <th>Genero</th>\n",
              "      <th>Locutor</th>\n",
              "      <th>Tentativa</th>\n",
              "      <th>Fonema</th>\n",
              "      <th>fo</th>\n",
              "      <th>f1</th>\n",
              "      <th>f2</th>\n",
              "      <th>f3</th>\n",
              "      <th>Codigo</th>\n",
              "    </tr>\n",
              "  </thead>\n",
              "  <tbody>\n",
              "    <tr>\n",
              "      <th>0</th>\n",
              "      <td>1</td>\n",
              "      <td>1</td>\n",
              "      <td>1</td>\n",
              "      <td>1</td>\n",
              "      <td>111.43</td>\n",
              "      <td>635.40</td>\n",
              "      <td>1099.2</td>\n",
              "      <td>2604.3</td>\n",
              "      <td>0.0</td>\n",
              "    </tr>\n",
              "    <tr>\n",
              "      <th>1</th>\n",
              "      <td>1</td>\n",
              "      <td>1</td>\n",
              "      <td>2</td>\n",
              "      <td>1</td>\n",
              "      <td>118.49</td>\n",
              "      <td>607.86</td>\n",
              "      <td>1067.4</td>\n",
              "      <td>2588.8</td>\n",
              "      <td>0.0</td>\n",
              "    </tr>\n",
              "    <tr>\n",
              "      <th>2</th>\n",
              "      <td>1</td>\n",
              "      <td>1</td>\n",
              "      <td>3</td>\n",
              "      <td>1</td>\n",
              "      <td>119.31</td>\n",
              "      <td>637.90</td>\n",
              "      <td>1163.5</td>\n",
              "      <td>2553.4</td>\n",
              "      <td>0.0</td>\n",
              "    </tr>\n",
              "    <tr>\n",
              "      <th>3</th>\n",
              "      <td>1</td>\n",
              "      <td>1</td>\n",
              "      <td>4</td>\n",
              "      <td>1</td>\n",
              "      <td>119.29</td>\n",
              "      <td>584.08</td>\n",
              "      <td>1183.2</td>\n",
              "      <td>2499.3</td>\n",
              "      <td>0.0</td>\n",
              "    </tr>\n",
              "    <tr>\n",
              "      <th>4</th>\n",
              "      <td>1</td>\n",
              "      <td>1</td>\n",
              "      <td>5</td>\n",
              "      <td>1</td>\n",
              "      <td>126.22</td>\n",
              "      <td>577.20</td>\n",
              "      <td>1142.2</td>\n",
              "      <td>2498.9</td>\n",
              "      <td>0.0</td>\n",
              "    </tr>\n",
              "    <tr>\n",
              "      <th>5</th>\n",
              "      <td>1</td>\n",
              "      <td>1</td>\n",
              "      <td>1</td>\n",
              "      <td>2</td>\n",
              "      <td>113.28</td>\n",
              "      <td>463.79</td>\n",
              "      <td>1801.0</td>\n",
              "      <td>2470.6</td>\n",
              "      <td>1.0</td>\n",
              "    </tr>\n",
              "    <tr>\n",
              "      <th>6</th>\n",
              "      <td>1</td>\n",
              "      <td>1</td>\n",
              "      <td>2</td>\n",
              "      <td>2</td>\n",
              "      <td>115.26</td>\n",
              "      <td>444.47</td>\n",
              "      <td>1858.8</td>\n",
              "      <td>2566.9</td>\n",
              "      <td>1.0</td>\n",
              "    </tr>\n",
              "    <tr>\n",
              "      <th>7</th>\n",
              "      <td>1</td>\n",
              "      <td>1</td>\n",
              "      <td>3</td>\n",
              "      <td>2</td>\n",
              "      <td>117.85</td>\n",
              "      <td>482.00</td>\n",
              "      <td>1759.6</td>\n",
              "      <td>2438.7</td>\n",
              "      <td>1.0</td>\n",
              "    </tr>\n",
              "  </tbody>\n",
              "</table>\n",
              "</div>"
            ],
            "text/plain": [
              "   Genero  Locutor  Tentativa  Fonema      fo      f1      f2      f3  Codigo\n",
              "0       1        1          1       1  111.43  635.40  1099.2  2604.3     0.0\n",
              "1       1        1          2       1  118.49  607.86  1067.4  2588.8     0.0\n",
              "2       1        1          3       1  119.31  637.90  1163.5  2553.4     0.0\n",
              "3       1        1          4       1  119.29  584.08  1183.2  2499.3     0.0\n",
              "4       1        1          5       1  126.22  577.20  1142.2  2498.9     0.0\n",
              "5       1        1          1       2  113.28  463.79  1801.0  2470.6     1.0\n",
              "6       1        1          2       2  115.26  444.47  1858.8  2566.9     1.0\n",
              "7       1        1          3       2  117.85  482.00  1759.6  2438.7     1.0"
            ]
          },
          "execution_count": 60,
          "metadata": {},
          "output_type": "execute_result"
        }
      ],
      "source": [
        "vogais.head(8)"
      ]
    },
    {
      "cell_type": "markdown",
      "metadata": {},
      "source": [
        "# Fazendo detecção de vogais\n",
        "## separando o dataframe por genero e por vogais para calcular os intervalos válidos de f0, f1, f2 e f3"
      ]
    },
    {
      "cell_type": "code",
      "execution_count": 61,
      "metadata": {},
      "outputs": [
        {
          "data": {
            "text/plain": [
              "array([1, 2, 3, 4, 5], dtype=int64)"
            ]
          },
          "execution_count": 61,
          "metadata": {},
          "output_type": "execute_result"
        }
      ],
      "source": [
        "vogais['Fonema'].unique()"
      ]
    },
    {
      "cell_type": "code",
      "execution_count": 62,
      "metadata": {},
      "outputs": [],
      "source": [
        "vogais['Fonema'].replace(to_replace = 1,value= 'AA', inplace = True)\n",
        "#vogais['Fonema'].replace(to_replace = '*AA',value= 'AA', inplace = True)\n",
        "#vogais['Fonema'].replace(to_replace = '*AE',value= 'AA', inplace = True)\n",
        "vogais['Fonema'].replace(to_replace = '*AH',value= 'AA', inplace = True)\n",
        "\n",
        "#vogais['Fonema'].replace(to_replace = 'AE',value= 'AA', inplace = True)\n",
        "vogais['Fonema'].replace(to_replace = 'AH',value= 'AA', inplace = True)\n",
        "\n",
        "\n",
        "\n",
        "vogais['Fonema'].replace(to_replace = 2,value= 'EE', inplace = True)\n",
        "vogais['Fonema'].replace(to_replace = '*EH',value= 'EE', inplace = True)\n",
        "vogais['Fonema'].replace(to_replace = 'EH',value= 'EE', inplace = True)\n",
        "#vogais['Fonema'].replace(to_replace = '*ER',value= 'EE', inplace = True)\n",
        "#vogais['Fonema'].replace(to_replace = 'ER',value= 'EE', inplace = True)\n",
        "\n",
        "\n",
        "vogais['Fonema'].replace(to_replace = 3,value= 'II', inplace = True)\n",
        "vogais['Fonema'].replace(to_replace = 'IY',value= 'II', inplace = True)\n",
        "#vogais['Fonema'].replace(to_replace = 'IH',value= 'II', inplace = True)\n",
        "#vogais['Fonema'].replace(to_replace = '*IH',value= 'II', inplace = True)\n",
        "vogais['Fonema'].replace(to_replace = '*IY',value= 'II', inplace = True)\n",
        "\n",
        "vogais['Fonema'].replace(to_replace = 4,value= 'OO', inplace = True)\n",
        "vogais['Fonema'].replace(to_replace = 'AO',value= 'OO', inplace = True)\n",
        "vogais['Fonema'].replace(to_replace = '*AO',value= 'OO', inplace = True)\n",
        "\n",
        "vogais['Fonema'].replace(to_replace = 5,value= 'UU', inplace = True)\n",
        "#vogais['Fonema'].replace(to_replace = '*UH',value= 'UU', inplace = True)\n",
        "vogais['Fonema'].replace(to_replace = '*UW',value= 'UU', inplace = True)\n",
        "#vogais['Fonema'].replace(to_replace = 'UH',value= 'UU', inplace = True)\n",
        "vogais['Fonema'].replace(to_replace = 'UW',value= 'UU', inplace = True)"
      ]
    },
    {
      "cell_type": "code",
      "execution_count": 63,
      "metadata": {},
      "outputs": [
        {
          "data": {
            "text/plain": [
              "array(['AA', 'EE', 'II', 'OO', 'UU'], dtype=object)"
            ]
          },
          "execution_count": 63,
          "metadata": {},
          "output_type": "execute_result"
        }
      ],
      "source": [
        "vogais['Fonema'].unique()"
      ]
    },
    {
      "cell_type": "code",
      "execution_count": 64,
      "metadata": {},
      "outputs": [],
      "source": [
        "dfHomem = vogais.loc[vogais['Genero'] == 1]"
      ]
    },
    {
      "cell_type": "markdown",
      "metadata": {},
      "source": [
        "# Intervalos formantes e f0  vogal A"
      ]
    },
    {
      "cell_type": "code",
      "execution_count": 65,
      "metadata": {},
      "outputs": [
        {
          "data": {
            "text/html": [
              "<div>\n",
              "<style scoped>\n",
              "    .dataframe tbody tr th:only-of-type {\n",
              "        vertical-align: middle;\n",
              "    }\n",
              "\n",
              "    .dataframe tbody tr th {\n",
              "        vertical-align: top;\n",
              "    }\n",
              "\n",
              "    .dataframe thead th {\n",
              "        text-align: right;\n",
              "    }\n",
              "</style>\n",
              "<table border=\"1\" class=\"dataframe\">\n",
              "  <thead>\n",
              "    <tr style=\"text-align: right;\">\n",
              "      <th></th>\n",
              "      <th>Genero</th>\n",
              "      <th>Locutor</th>\n",
              "      <th>Tentativa</th>\n",
              "      <th>Fonema</th>\n",
              "      <th>fo</th>\n",
              "      <th>f1</th>\n",
              "      <th>f2</th>\n",
              "      <th>f3</th>\n",
              "      <th>Codigo</th>\n",
              "    </tr>\n",
              "  </thead>\n",
              "  <tbody>\n",
              "    <tr>\n",
              "      <th>0</th>\n",
              "      <td>1</td>\n",
              "      <td>1</td>\n",
              "      <td>1</td>\n",
              "      <td>AA</td>\n",
              "      <td>111.43</td>\n",
              "      <td>635.40</td>\n",
              "      <td>1099.2</td>\n",
              "      <td>2604.3</td>\n",
              "      <td>0.0</td>\n",
              "    </tr>\n",
              "    <tr>\n",
              "      <th>1</th>\n",
              "      <td>1</td>\n",
              "      <td>1</td>\n",
              "      <td>2</td>\n",
              "      <td>AA</td>\n",
              "      <td>118.49</td>\n",
              "      <td>607.86</td>\n",
              "      <td>1067.4</td>\n",
              "      <td>2588.8</td>\n",
              "      <td>0.0</td>\n",
              "    </tr>\n",
              "    <tr>\n",
              "      <th>2</th>\n",
              "      <td>1</td>\n",
              "      <td>1</td>\n",
              "      <td>3</td>\n",
              "      <td>AA</td>\n",
              "      <td>119.31</td>\n",
              "      <td>637.90</td>\n",
              "      <td>1163.5</td>\n",
              "      <td>2553.4</td>\n",
              "      <td>0.0</td>\n",
              "    </tr>\n",
              "    <tr>\n",
              "      <th>3</th>\n",
              "      <td>1</td>\n",
              "      <td>1</td>\n",
              "      <td>4</td>\n",
              "      <td>AA</td>\n",
              "      <td>119.29</td>\n",
              "      <td>584.08</td>\n",
              "      <td>1183.2</td>\n",
              "      <td>2499.3</td>\n",
              "      <td>0.0</td>\n",
              "    </tr>\n",
              "    <tr>\n",
              "      <th>4</th>\n",
              "      <td>1</td>\n",
              "      <td>1</td>\n",
              "      <td>5</td>\n",
              "      <td>AA</td>\n",
              "      <td>126.22</td>\n",
              "      <td>577.20</td>\n",
              "      <td>1142.2</td>\n",
              "      <td>2498.9</td>\n",
              "      <td>0.0</td>\n",
              "    </tr>\n",
              "    <tr>\n",
              "      <th>...</th>\n",
              "      <td>...</td>\n",
              "      <td>...</td>\n",
              "      <td>...</td>\n",
              "      <td>...</td>\n",
              "      <td>...</td>\n",
              "      <td>...</td>\n",
              "      <td>...</td>\n",
              "      <td>...</td>\n",
              "      <td>...</td>\n",
              "    </tr>\n",
              "    <tr>\n",
              "      <th>350</th>\n",
              "      <td>1</td>\n",
              "      <td>15</td>\n",
              "      <td>1</td>\n",
              "      <td>AA</td>\n",
              "      <td>103.69</td>\n",
              "      <td>1037.50</td>\n",
              "      <td>1322.0</td>\n",
              "      <td>2066.9</td>\n",
              "      <td>0.0</td>\n",
              "    </tr>\n",
              "    <tr>\n",
              "      <th>351</th>\n",
              "      <td>1</td>\n",
              "      <td>15</td>\n",
              "      <td>2</td>\n",
              "      <td>AA</td>\n",
              "      <td>107.14</td>\n",
              "      <td>888.17</td>\n",
              "      <td>1320.5</td>\n",
              "      <td>1495.6</td>\n",
              "      <td>0.0</td>\n",
              "    </tr>\n",
              "    <tr>\n",
              "      <th>352</th>\n",
              "      <td>1</td>\n",
              "      <td>15</td>\n",
              "      <td>3</td>\n",
              "      <td>AA</td>\n",
              "      <td>109.85</td>\n",
              "      <td>943.68</td>\n",
              "      <td>1419.4</td>\n",
              "      <td>1493.3</td>\n",
              "      <td>0.0</td>\n",
              "    </tr>\n",
              "    <tr>\n",
              "      <th>353</th>\n",
              "      <td>1</td>\n",
              "      <td>15</td>\n",
              "      <td>4</td>\n",
              "      <td>AA</td>\n",
              "      <td>102.89</td>\n",
              "      <td>737.30</td>\n",
              "      <td>1295.5</td>\n",
              "      <td>2190.8</td>\n",
              "      <td>0.0</td>\n",
              "    </tr>\n",
              "    <tr>\n",
              "      <th>354</th>\n",
              "      <td>1</td>\n",
              "      <td>15</td>\n",
              "      <td>5</td>\n",
              "      <td>AA</td>\n",
              "      <td>106.68</td>\n",
              "      <td>941.78</td>\n",
              "      <td>1335.1</td>\n",
              "      <td>1544.1</td>\n",
              "      <td>0.0</td>\n",
              "    </tr>\n",
              "  </tbody>\n",
              "</table>\n",
              "<p>70 rows × 9 columns</p>\n",
              "</div>"
            ],
            "text/plain": [
              "     Genero  Locutor  Tentativa Fonema      fo       f1      f2      f3  \\\n",
              "0         1        1          1     AA  111.43   635.40  1099.2  2604.3   \n",
              "1         1        1          2     AA  118.49   607.86  1067.4  2588.8   \n",
              "2         1        1          3     AA  119.31   637.90  1163.5  2553.4   \n",
              "3         1        1          4     AA  119.29   584.08  1183.2  2499.3   \n",
              "4         1        1          5     AA  126.22   577.20  1142.2  2498.9   \n",
              "..      ...      ...        ...    ...     ...      ...     ...     ...   \n",
              "350       1       15          1     AA  103.69  1037.50  1322.0  2066.9   \n",
              "351       1       15          2     AA  107.14   888.17  1320.5  1495.6   \n",
              "352       1       15          3     AA  109.85   943.68  1419.4  1493.3   \n",
              "353       1       15          4     AA  102.89   737.30  1295.5  2190.8   \n",
              "354       1       15          5     AA  106.68   941.78  1335.1  1544.1   \n",
              "\n",
              "     Codigo  \n",
              "0       0.0  \n",
              "1       0.0  \n",
              "2       0.0  \n",
              "3       0.0  \n",
              "4       0.0  \n",
              "..      ...  \n",
              "350     0.0  \n",
              "351     0.0  \n",
              "352     0.0  \n",
              "353     0.0  \n",
              "354     0.0  \n",
              "\n",
              "[70 rows x 9 columns]"
            ]
          },
          "execution_count": 65,
          "metadata": {},
          "output_type": "execute_result"
        }
      ],
      "source": [
        "# Separando dataframe para vogais com o fonema AA\n",
        "dfHomemA = dfHomem.loc[dfHomem['Fonema'] == \"AA\"]\n",
        "dfHomemA"
      ]
    },
    {
      "cell_type": "code",
      "execution_count": 66,
      "metadata": {},
      "outputs": [
        {
          "name": "stderr",
          "output_type": "stream",
          "text": [
            "C:\\Users\\STORM\\AppData\\Local\\Temp\\ipykernel_91324\\2260579539.py:3: FutureWarning:\n",
            "\n",
            "Dropping of nuisance columns in DataFrame reductions (with 'numeric_only=None') is deprecated; in a future version this will raise TypeError.  Select only valid columns before calling the reduction.\n",
            "\n",
            "C:\\Users\\STORM\\AppData\\Local\\Temp\\ipykernel_91324\\2260579539.py:4: FutureWarning:\n",
            "\n",
            "Dropping of nuisance columns in DataFrame reductions (with 'numeric_only=None') is deprecated; in a future version this will raise TypeError.  Select only valid columns before calling the reduction.\n",
            "\n"
          ]
        }
      ],
      "source": [
        "from scipy.io import savemat\n",
        "\n",
        "media = dfHomemA.mean()\n",
        "desvPad = dfHomemA.std()\n",
        "mediaMais2Dp = media+2*desvPad\n",
        "mediaMenos2Dp = media-2*desvPad\n",
        "f0m = mediaMenos2Dp['fo']\n",
        "f0M = mediaMais2Dp['fo']\n",
        "f1m = mediaMenos2Dp['f1']\n",
        "f1M = mediaMais2Dp['f1']\n",
        "f2m = mediaMenos2Dp['f2']\n",
        "f2M = mediaMais2Dp['f2']\n",
        "f3m = mediaMenos2Dp['f3']\n",
        "f3M = mediaMais2Dp['f3']\n",
        "formantesAmat = [[f0m, f0M], [f1m,f1M], [f2m, f2M] , [f3m, f3M]]\n",
        "formantesAmat\n",
        "\n",
        "mdic = {\"A\": formantesAmat, \"label\": \"experiment\"}\n",
        "\n",
        "savemat(\"matlab_matrixA.mat\", mdic)"
      ]
    },
    {
      "cell_type": "markdown",
      "metadata": {},
      "source": [
        "# Intervalos formantes e f0  vogal E"
      ]
    },
    {
      "cell_type": "code",
      "execution_count": 67,
      "metadata": {},
      "outputs": [
        {
          "data": {
            "text/html": [
              "<div>\n",
              "<style scoped>\n",
              "    .dataframe tbody tr th:only-of-type {\n",
              "        vertical-align: middle;\n",
              "    }\n",
              "\n",
              "    .dataframe tbody tr th {\n",
              "        vertical-align: top;\n",
              "    }\n",
              "\n",
              "    .dataframe thead th {\n",
              "        text-align: right;\n",
              "    }\n",
              "</style>\n",
              "<table border=\"1\" class=\"dataframe\">\n",
              "  <thead>\n",
              "    <tr style=\"text-align: right;\">\n",
              "      <th></th>\n",
              "      <th>Genero</th>\n",
              "      <th>Locutor</th>\n",
              "      <th>Tentativa</th>\n",
              "      <th>Fonema</th>\n",
              "      <th>fo</th>\n",
              "      <th>f1</th>\n",
              "      <th>f2</th>\n",
              "      <th>f3</th>\n",
              "      <th>Codigo</th>\n",
              "    </tr>\n",
              "  </thead>\n",
              "  <tbody>\n",
              "    <tr>\n",
              "      <th>5</th>\n",
              "      <td>1</td>\n",
              "      <td>1</td>\n",
              "      <td>1</td>\n",
              "      <td>EE</td>\n",
              "      <td>113.28</td>\n",
              "      <td>463.79</td>\n",
              "      <td>1801.0</td>\n",
              "      <td>2470.6</td>\n",
              "      <td>1.0</td>\n",
              "    </tr>\n",
              "    <tr>\n",
              "      <th>6</th>\n",
              "      <td>1</td>\n",
              "      <td>1</td>\n",
              "      <td>2</td>\n",
              "      <td>EE</td>\n",
              "      <td>115.26</td>\n",
              "      <td>444.47</td>\n",
              "      <td>1858.8</td>\n",
              "      <td>2566.9</td>\n",
              "      <td>1.0</td>\n",
              "    </tr>\n",
              "    <tr>\n",
              "      <th>7</th>\n",
              "      <td>1</td>\n",
              "      <td>1</td>\n",
              "      <td>3</td>\n",
              "      <td>EE</td>\n",
              "      <td>117.85</td>\n",
              "      <td>482.00</td>\n",
              "      <td>1759.6</td>\n",
              "      <td>2438.7</td>\n",
              "      <td>1.0</td>\n",
              "    </tr>\n",
              "    <tr>\n",
              "      <th>8</th>\n",
              "      <td>1</td>\n",
              "      <td>1</td>\n",
              "      <td>4</td>\n",
              "      <td>EE</td>\n",
              "      <td>122.44</td>\n",
              "      <td>485.48</td>\n",
              "      <td>1780.1</td>\n",
              "      <td>2552.5</td>\n",
              "      <td>1.0</td>\n",
              "    </tr>\n",
              "    <tr>\n",
              "      <th>9</th>\n",
              "      <td>1</td>\n",
              "      <td>1</td>\n",
              "      <td>5</td>\n",
              "      <td>EE</td>\n",
              "      <td>127.74</td>\n",
              "      <td>510.71</td>\n",
              "      <td>1719.7</td>\n",
              "      <td>2475.5</td>\n",
              "      <td>1.0</td>\n",
              "    </tr>\n",
              "    <tr>\n",
              "      <th>...</th>\n",
              "      <td>...</td>\n",
              "      <td>...</td>\n",
              "      <td>...</td>\n",
              "      <td>...</td>\n",
              "      <td>...</td>\n",
              "      <td>...</td>\n",
              "      <td>...</td>\n",
              "      <td>...</td>\n",
              "      <td>...</td>\n",
              "    </tr>\n",
              "    <tr>\n",
              "      <th>355</th>\n",
              "      <td>1</td>\n",
              "      <td>15</td>\n",
              "      <td>1</td>\n",
              "      <td>EE</td>\n",
              "      <td>114.56</td>\n",
              "      <td>451.56</td>\n",
              "      <td>2133.4</td>\n",
              "      <td>2587.9</td>\n",
              "      <td>1.0</td>\n",
              "    </tr>\n",
              "    <tr>\n",
              "      <th>356</th>\n",
              "      <td>1</td>\n",
              "      <td>15</td>\n",
              "      <td>2</td>\n",
              "      <td>EE</td>\n",
              "      <td>117.84</td>\n",
              "      <td>391.59</td>\n",
              "      <td>2112.4</td>\n",
              "      <td>2745.3</td>\n",
              "      <td>1.0</td>\n",
              "    </tr>\n",
              "    <tr>\n",
              "      <th>357</th>\n",
              "      <td>1</td>\n",
              "      <td>15</td>\n",
              "      <td>3</td>\n",
              "      <td>EE</td>\n",
              "      <td>114.66</td>\n",
              "      <td>433.22</td>\n",
              "      <td>2081.8</td>\n",
              "      <td>2643.9</td>\n",
              "      <td>1.0</td>\n",
              "    </tr>\n",
              "    <tr>\n",
              "      <th>358</th>\n",
              "      <td>1</td>\n",
              "      <td>15</td>\n",
              "      <td>4</td>\n",
              "      <td>EE</td>\n",
              "      <td>115.81</td>\n",
              "      <td>426.31</td>\n",
              "      <td>2118.2</td>\n",
              "      <td>2682.5</td>\n",
              "      <td>1.0</td>\n",
              "    </tr>\n",
              "    <tr>\n",
              "      <th>359</th>\n",
              "      <td>1</td>\n",
              "      <td>15</td>\n",
              "      <td>5</td>\n",
              "      <td>EE</td>\n",
              "      <td>115.97</td>\n",
              "      <td>459.72</td>\n",
              "      <td>2098.1</td>\n",
              "      <td>2714.1</td>\n",
              "      <td>1.0</td>\n",
              "    </tr>\n",
              "  </tbody>\n",
              "</table>\n",
              "<p>70 rows × 9 columns</p>\n",
              "</div>"
            ],
            "text/plain": [
              "     Genero  Locutor  Tentativa Fonema      fo      f1      f2      f3  Codigo\n",
              "5         1        1          1     EE  113.28  463.79  1801.0  2470.6     1.0\n",
              "6         1        1          2     EE  115.26  444.47  1858.8  2566.9     1.0\n",
              "7         1        1          3     EE  117.85  482.00  1759.6  2438.7     1.0\n",
              "8         1        1          4     EE  122.44  485.48  1780.1  2552.5     1.0\n",
              "9         1        1          5     EE  127.74  510.71  1719.7  2475.5     1.0\n",
              "..      ...      ...        ...    ...     ...     ...     ...     ...     ...\n",
              "355       1       15          1     EE  114.56  451.56  2133.4  2587.9     1.0\n",
              "356       1       15          2     EE  117.84  391.59  2112.4  2745.3     1.0\n",
              "357       1       15          3     EE  114.66  433.22  2081.8  2643.9     1.0\n",
              "358       1       15          4     EE  115.81  426.31  2118.2  2682.5     1.0\n",
              "359       1       15          5     EE  115.97  459.72  2098.1  2714.1     1.0\n",
              "\n",
              "[70 rows x 9 columns]"
            ]
          },
          "execution_count": 67,
          "metadata": {},
          "output_type": "execute_result"
        }
      ],
      "source": [
        "# Separando dataframe para vogais com o fonema EE\n",
        "dfHomemE = dfHomem.loc[dfHomem['Fonema'] == \"EE\"]\n",
        "dfHomemE"
      ]
    },
    {
      "cell_type": "code",
      "execution_count": 68,
      "metadata": {},
      "outputs": [
        {
          "name": "stderr",
          "output_type": "stream",
          "text": [
            "C:\\Users\\STORM\\AppData\\Local\\Temp\\ipykernel_91324\\499482407.py:1: FutureWarning:\n",
            "\n",
            "Dropping of nuisance columns in DataFrame reductions (with 'numeric_only=None') is deprecated; in a future version this will raise TypeError.  Select only valid columns before calling the reduction.\n",
            "\n",
            "C:\\Users\\STORM\\AppData\\Local\\Temp\\ipykernel_91324\\499482407.py:2: FutureWarning:\n",
            "\n",
            "Dropping of nuisance columns in DataFrame reductions (with 'numeric_only=None') is deprecated; in a future version this will raise TypeError.  Select only valid columns before calling the reduction.\n",
            "\n"
          ]
        },
        {
          "data": {
            "text/plain": [
              "[[84.04553481402819, 144.11643661454323],\n",
              " [360.32692461625965, 604.7367896694544],\n",
              " [1117.779429910329, 2196.2111415182426],\n",
              " [1656.240922267562, 3128.297363446724]]"
            ]
          },
          "execution_count": 68,
          "metadata": {},
          "output_type": "execute_result"
        }
      ],
      "source": [
        "media = dfHomemE.mean()\n",
        "desvPad = dfHomemE.std()\n",
        "mediaMais2Dp = media+2*desvPad\n",
        "mediaMenos2Dp = media-2*desvPad\n",
        "f0m = mediaMenos2Dp['fo']\n",
        "f0M = mediaMais2Dp['fo']\n",
        "f1m = mediaMenos2Dp['f1']\n",
        "f1M = mediaMais2Dp['f1']\n",
        "f2m = mediaMenos2Dp['f2']\n",
        "f2M = mediaMais2Dp['f2']\n",
        "f3m = mediaMenos2Dp['f3']\n",
        "f3M = mediaMais2Dp['f3']\n",
        "formantesEmat = [[f0m, f0M], [f1m,f1M], [f2m, f2M] , [f3m, f3M]]\n",
        "formantesEmat\n",
        "\n",
        "mdic = {\"E\": formantesEmat, \"label\": \"experiment\"}\n",
        "\n",
        "savemat(\"matlab_matrixE.mat\", mdic)\n",
        "formantesEmat"
      ]
    },
    {
      "cell_type": "markdown",
      "metadata": {},
      "source": [
        "# Intervalos formantes e f0  vogal I"
      ]
    },
    {
      "cell_type": "code",
      "execution_count": 69,
      "metadata": {},
      "outputs": [
        {
          "data": {
            "text/html": [
              "<div>\n",
              "<style scoped>\n",
              "    .dataframe tbody tr th:only-of-type {\n",
              "        vertical-align: middle;\n",
              "    }\n",
              "\n",
              "    .dataframe tbody tr th {\n",
              "        vertical-align: top;\n",
              "    }\n",
              "\n",
              "    .dataframe thead th {\n",
              "        text-align: right;\n",
              "    }\n",
              "</style>\n",
              "<table border=\"1\" class=\"dataframe\">\n",
              "  <thead>\n",
              "    <tr style=\"text-align: right;\">\n",
              "      <th></th>\n",
              "      <th>Genero</th>\n",
              "      <th>Locutor</th>\n",
              "      <th>Tentativa</th>\n",
              "      <th>Fonema</th>\n",
              "      <th>fo</th>\n",
              "      <th>f1</th>\n",
              "      <th>f2</th>\n",
              "      <th>f3</th>\n",
              "      <th>Codigo</th>\n",
              "    </tr>\n",
              "  </thead>\n",
              "  <tbody>\n",
              "    <tr>\n",
              "      <th>10</th>\n",
              "      <td>1</td>\n",
              "      <td>1</td>\n",
              "      <td>1</td>\n",
              "      <td>II</td>\n",
              "      <td>124.73</td>\n",
              "      <td>247.71</td>\n",
              "      <td>2239.1</td>\n",
              "      <td>3392.2</td>\n",
              "      <td>2.0</td>\n",
              "    </tr>\n",
              "    <tr>\n",
              "      <th>11</th>\n",
              "      <td>1</td>\n",
              "      <td>1</td>\n",
              "      <td>2</td>\n",
              "      <td>II</td>\n",
              "      <td>122.78</td>\n",
              "      <td>308.90</td>\n",
              "      <td>1939.4</td>\n",
              "      <td>2797.0</td>\n",
              "      <td>2.0</td>\n",
              "    </tr>\n",
              "    <tr>\n",
              "      <th>12</th>\n",
              "      <td>1</td>\n",
              "      <td>1</td>\n",
              "      <td>3</td>\n",
              "      <td>II</td>\n",
              "      <td>122.81</td>\n",
              "      <td>316.28</td>\n",
              "      <td>2076.6</td>\n",
              "      <td>2816.8</td>\n",
              "      <td>2.0</td>\n",
              "    </tr>\n",
              "    <tr>\n",
              "      <th>13</th>\n",
              "      <td>1</td>\n",
              "      <td>1</td>\n",
              "      <td>4</td>\n",
              "      <td>II</td>\n",
              "      <td>124.14</td>\n",
              "      <td>345.26</td>\n",
              "      <td>1922.0</td>\n",
              "      <td>2857.3</td>\n",
              "      <td>2.0</td>\n",
              "    </tr>\n",
              "    <tr>\n",
              "      <th>14</th>\n",
              "      <td>1</td>\n",
              "      <td>1</td>\n",
              "      <td>5</td>\n",
              "      <td>II</td>\n",
              "      <td>130.13</td>\n",
              "      <td>288.25</td>\n",
              "      <td>2143.1</td>\n",
              "      <td>2658.2</td>\n",
              "      <td>2.0</td>\n",
              "    </tr>\n",
              "    <tr>\n",
              "      <th>...</th>\n",
              "      <td>...</td>\n",
              "      <td>...</td>\n",
              "      <td>...</td>\n",
              "      <td>...</td>\n",
              "      <td>...</td>\n",
              "      <td>...</td>\n",
              "      <td>...</td>\n",
              "      <td>...</td>\n",
              "      <td>...</td>\n",
              "    </tr>\n",
              "    <tr>\n",
              "      <th>360</th>\n",
              "      <td>1</td>\n",
              "      <td>15</td>\n",
              "      <td>1</td>\n",
              "      <td>II</td>\n",
              "      <td>120.75</td>\n",
              "      <td>215.60</td>\n",
              "      <td>1619.1</td>\n",
              "      <td>2432.7</td>\n",
              "      <td>2.0</td>\n",
              "    </tr>\n",
              "    <tr>\n",
              "      <th>361</th>\n",
              "      <td>1</td>\n",
              "      <td>15</td>\n",
              "      <td>2</td>\n",
              "      <td>II</td>\n",
              "      <td>129.73</td>\n",
              "      <td>224.69</td>\n",
              "      <td>2296.6</td>\n",
              "      <td>3080.9</td>\n",
              "      <td>2.0</td>\n",
              "    </tr>\n",
              "    <tr>\n",
              "      <th>362</th>\n",
              "      <td>1</td>\n",
              "      <td>15</td>\n",
              "      <td>3</td>\n",
              "      <td>II</td>\n",
              "      <td>125.33</td>\n",
              "      <td>270.56</td>\n",
              "      <td>1520.8</td>\n",
              "      <td>2408.7</td>\n",
              "      <td>2.0</td>\n",
              "    </tr>\n",
              "    <tr>\n",
              "      <th>363</th>\n",
              "      <td>1</td>\n",
              "      <td>15</td>\n",
              "      <td>4</td>\n",
              "      <td>II</td>\n",
              "      <td>129.50</td>\n",
              "      <td>212.75</td>\n",
              "      <td>1087.3</td>\n",
              "      <td>2358.9</td>\n",
              "      <td>2.0</td>\n",
              "    </tr>\n",
              "    <tr>\n",
              "      <th>364</th>\n",
              "      <td>1</td>\n",
              "      <td>15</td>\n",
              "      <td>5</td>\n",
              "      <td>II</td>\n",
              "      <td>121.16</td>\n",
              "      <td>191.48</td>\n",
              "      <td>1374.6</td>\n",
              "      <td>2381.2</td>\n",
              "      <td>2.0</td>\n",
              "    </tr>\n",
              "  </tbody>\n",
              "</table>\n",
              "<p>70 rows × 9 columns</p>\n",
              "</div>"
            ],
            "text/plain": [
              "     Genero  Locutor  Tentativa Fonema      fo      f1      f2      f3  Codigo\n",
              "10        1        1          1     II  124.73  247.71  2239.1  3392.2     2.0\n",
              "11        1        1          2     II  122.78  308.90  1939.4  2797.0     2.0\n",
              "12        1        1          3     II  122.81  316.28  2076.6  2816.8     2.0\n",
              "13        1        1          4     II  124.14  345.26  1922.0  2857.3     2.0\n",
              "14        1        1          5     II  130.13  288.25  2143.1  2658.2     2.0\n",
              "..      ...      ...        ...    ...     ...     ...     ...     ...     ...\n",
              "360       1       15          1     II  120.75  215.60  1619.1  2432.7     2.0\n",
              "361       1       15          2     II  129.73  224.69  2296.6  3080.9     2.0\n",
              "362       1       15          3     II  125.33  270.56  1520.8  2408.7     2.0\n",
              "363       1       15          4     II  129.50  212.75  1087.3  2358.9     2.0\n",
              "364       1       15          5     II  121.16  191.48  1374.6  2381.2     2.0\n",
              "\n",
              "[70 rows x 9 columns]"
            ]
          },
          "execution_count": 69,
          "metadata": {},
          "output_type": "execute_result"
        }
      ],
      "source": [
        "# Separando dataframe para vogais com o fonema II\n",
        "dfHomemI = dfHomem.loc[dfHomem['Fonema'] == \"II\"]\n",
        "dfHomemI"
      ]
    },
    {
      "cell_type": "code",
      "execution_count": 70,
      "metadata": {},
      "outputs": [
        {
          "name": "stderr",
          "output_type": "stream",
          "text": [
            "C:\\Users\\STORM\\AppData\\Local\\Temp\\ipykernel_91324\\4225988927.py:1: FutureWarning:\n",
            "\n",
            "Dropping of nuisance columns in DataFrame reductions (with 'numeric_only=None') is deprecated; in a future version this will raise TypeError.  Select only valid columns before calling the reduction.\n",
            "\n",
            "C:\\Users\\STORM\\AppData\\Local\\Temp\\ipykernel_91324\\4225988927.py:2: FutureWarning:\n",
            "\n",
            "Dropping of nuisance columns in DataFrame reductions (with 'numeric_only=None') is deprecated; in a future version this will raise TypeError.  Select only valid columns before calling the reduction.\n",
            "\n"
          ]
        }
      ],
      "source": [
        "media = dfHomemI.mean()\n",
        "desvPad = dfHomemI.std()\n",
        "mediaMais2Dp = media+2*desvPad\n",
        "mediaMenos2Dp = media-2*desvPad\n",
        "f0m = mediaMenos2Dp['fo']\n",
        "f0M = mediaMais2Dp['fo']\n",
        "f1m = mediaMenos2Dp['f1']\n",
        "f1M = mediaMais2Dp['f1']\n",
        "f2m = mediaMenos2Dp['f2']\n",
        "f2M = mediaMais2Dp['f2']\n",
        "f3m = mediaMenos2Dp['f3']\n",
        "f3M = mediaMais2Dp['f3']\n",
        "formantesImat = [[f0m, f0M], [f1m,f1M], [f2m, f2M] , [f3m, f3M]]\n",
        "formantesImat\n",
        "\n",
        "mdic = {\"I\": formantesImat, \"label\": \"experiment\"}\n",
        "\n",
        "savemat(\"matlab_matrixI.mat\", mdic)"
      ]
    },
    {
      "cell_type": "markdown",
      "metadata": {},
      "source": [
        "# Intervalos formantes e f0  vogal O"
      ]
    },
    {
      "cell_type": "code",
      "execution_count": 71,
      "metadata": {},
      "outputs": [
        {
          "data": {
            "text/html": [
              "<div>\n",
              "<style scoped>\n",
              "    .dataframe tbody tr th:only-of-type {\n",
              "        vertical-align: middle;\n",
              "    }\n",
              "\n",
              "    .dataframe tbody tr th {\n",
              "        vertical-align: top;\n",
              "    }\n",
              "\n",
              "    .dataframe thead th {\n",
              "        text-align: right;\n",
              "    }\n",
              "</style>\n",
              "<table border=\"1\" class=\"dataframe\">\n",
              "  <thead>\n",
              "    <tr style=\"text-align: right;\">\n",
              "      <th></th>\n",
              "      <th>Genero</th>\n",
              "      <th>Locutor</th>\n",
              "      <th>Tentativa</th>\n",
              "      <th>Fonema</th>\n",
              "      <th>fo</th>\n",
              "      <th>f1</th>\n",
              "      <th>f2</th>\n",
              "      <th>f3</th>\n",
              "      <th>Codigo</th>\n",
              "    </tr>\n",
              "  </thead>\n",
              "  <tbody>\n",
              "    <tr>\n",
              "      <th>15</th>\n",
              "      <td>1</td>\n",
              "      <td>1</td>\n",
              "      <td>1</td>\n",
              "      <td>OO</td>\n",
              "      <td>115.91</td>\n",
              "      <td>473.05</td>\n",
              "      <td>832.63</td>\n",
              "      <td>2791.1</td>\n",
              "      <td>3.0</td>\n",
              "    </tr>\n",
              "    <tr>\n",
              "      <th>16</th>\n",
              "      <td>1</td>\n",
              "      <td>1</td>\n",
              "      <td>2</td>\n",
              "      <td>OO</td>\n",
              "      <td>122.98</td>\n",
              "      <td>488.24</td>\n",
              "      <td>868.95</td>\n",
              "      <td>2535.6</td>\n",
              "      <td>3.0</td>\n",
              "    </tr>\n",
              "    <tr>\n",
              "      <th>17</th>\n",
              "      <td>1</td>\n",
              "      <td>1</td>\n",
              "      <td>3</td>\n",
              "      <td>OO</td>\n",
              "      <td>121.97</td>\n",
              "      <td>466.21</td>\n",
              "      <td>772.59</td>\n",
              "      <td>2546.1</td>\n",
              "      <td>3.0</td>\n",
              "    </tr>\n",
              "    <tr>\n",
              "      <th>18</th>\n",
              "      <td>1</td>\n",
              "      <td>1</td>\n",
              "      <td>4</td>\n",
              "      <td>OO</td>\n",
              "      <td>125.51</td>\n",
              "      <td>491.80</td>\n",
              "      <td>877.20</td>\n",
              "      <td>2588.9</td>\n",
              "      <td>3.0</td>\n",
              "    </tr>\n",
              "    <tr>\n",
              "      <th>19</th>\n",
              "      <td>1</td>\n",
              "      <td>1</td>\n",
              "      <td>5</td>\n",
              "      <td>OO</td>\n",
              "      <td>130.88</td>\n",
              "      <td>468.68</td>\n",
              "      <td>906.05</td>\n",
              "      <td>2525.0</td>\n",
              "      <td>3.0</td>\n",
              "    </tr>\n",
              "    <tr>\n",
              "      <th>...</th>\n",
              "      <td>...</td>\n",
              "      <td>...</td>\n",
              "      <td>...</td>\n",
              "      <td>...</td>\n",
              "      <td>...</td>\n",
              "      <td>...</td>\n",
              "      <td>...</td>\n",
              "      <td>...</td>\n",
              "      <td>...</td>\n",
              "    </tr>\n",
              "    <tr>\n",
              "      <th>365</th>\n",
              "      <td>1</td>\n",
              "      <td>15</td>\n",
              "      <td>1</td>\n",
              "      <td>OO</td>\n",
              "      <td>111.93</td>\n",
              "      <td>471.02</td>\n",
              "      <td>896.28</td>\n",
              "      <td>2469.0</td>\n",
              "      <td>3.0</td>\n",
              "    </tr>\n",
              "    <tr>\n",
              "      <th>366</th>\n",
              "      <td>1</td>\n",
              "      <td>15</td>\n",
              "      <td>2</td>\n",
              "      <td>OO</td>\n",
              "      <td>113.35</td>\n",
              "      <td>452.61</td>\n",
              "      <td>860.42</td>\n",
              "      <td>2291.1</td>\n",
              "      <td>3.0</td>\n",
              "    </tr>\n",
              "    <tr>\n",
              "      <th>367</th>\n",
              "      <td>1</td>\n",
              "      <td>15</td>\n",
              "      <td>3</td>\n",
              "      <td>OO</td>\n",
              "      <td>121.32</td>\n",
              "      <td>359.19</td>\n",
              "      <td>864.01</td>\n",
              "      <td>2508.8</td>\n",
              "      <td>3.0</td>\n",
              "    </tr>\n",
              "    <tr>\n",
              "      <th>368</th>\n",
              "      <td>1</td>\n",
              "      <td>15</td>\n",
              "      <td>4</td>\n",
              "      <td>OO</td>\n",
              "      <td>109.44</td>\n",
              "      <td>509.88</td>\n",
              "      <td>878.67</td>\n",
              "      <td>2275.6</td>\n",
              "      <td>3.0</td>\n",
              "    </tr>\n",
              "    <tr>\n",
              "      <th>369</th>\n",
              "      <td>1</td>\n",
              "      <td>15</td>\n",
              "      <td>5</td>\n",
              "      <td>OO</td>\n",
              "      <td>110.52</td>\n",
              "      <td>493.53</td>\n",
              "      <td>870.59</td>\n",
              "      <td>2350.4</td>\n",
              "      <td>3.0</td>\n",
              "    </tr>\n",
              "  </tbody>\n",
              "</table>\n",
              "<p>70 rows × 9 columns</p>\n",
              "</div>"
            ],
            "text/plain": [
              "     Genero  Locutor  Tentativa Fonema      fo      f1      f2      f3  Codigo\n",
              "15        1        1          1     OO  115.91  473.05  832.63  2791.1     3.0\n",
              "16        1        1          2     OO  122.98  488.24  868.95  2535.6     3.0\n",
              "17        1        1          3     OO  121.97  466.21  772.59  2546.1     3.0\n",
              "18        1        1          4     OO  125.51  491.80  877.20  2588.9     3.0\n",
              "19        1        1          5     OO  130.88  468.68  906.05  2525.0     3.0\n",
              "..      ...      ...        ...    ...     ...     ...     ...     ...     ...\n",
              "365       1       15          1     OO  111.93  471.02  896.28  2469.0     3.0\n",
              "366       1       15          2     OO  113.35  452.61  860.42  2291.1     3.0\n",
              "367       1       15          3     OO  121.32  359.19  864.01  2508.8     3.0\n",
              "368       1       15          4     OO  109.44  509.88  878.67  2275.6     3.0\n",
              "369       1       15          5     OO  110.52  493.53  870.59  2350.4     3.0\n",
              "\n",
              "[70 rows x 9 columns]"
            ]
          },
          "execution_count": 71,
          "metadata": {},
          "output_type": "execute_result"
        }
      ],
      "source": [
        "# Separando dataframe para vogais com o fonema OO\n",
        "dfHomemO = dfHomem.loc[dfHomem['Fonema'] == \"OO\"]\n",
        "dfHomemO"
      ]
    },
    {
      "cell_type": "code",
      "execution_count": 72,
      "metadata": {},
      "outputs": [
        {
          "name": "stderr",
          "output_type": "stream",
          "text": [
            "C:\\Users\\STORM\\AppData\\Local\\Temp\\ipykernel_91324\\4261808303.py:1: FutureWarning:\n",
            "\n",
            "Dropping of nuisance columns in DataFrame reductions (with 'numeric_only=None') is deprecated; in a future version this will raise TypeError.  Select only valid columns before calling the reduction.\n",
            "\n",
            "C:\\Users\\STORM\\AppData\\Local\\Temp\\ipykernel_91324\\4261808303.py:2: FutureWarning:\n",
            "\n",
            "Dropping of nuisance columns in DataFrame reductions (with 'numeric_only=None') is deprecated; in a future version this will raise TypeError.  Select only valid columns before calling the reduction.\n",
            "\n"
          ]
        }
      ],
      "source": [
        "media = dfHomemO.mean()\n",
        "desvPad = dfHomemO.std()\n",
        "mediaMais2Dp = media+2*desvPad\n",
        "mediaMenos2Dp = media-2*desvPad\n",
        "f0m = mediaMenos2Dp['fo']\n",
        "f0M = mediaMais2Dp['fo']\n",
        "f1m = mediaMenos2Dp['f1']\n",
        "f1M = mediaMais2Dp['f1']\n",
        "f2m = mediaMenos2Dp['f2']\n",
        "f2M = mediaMais2Dp['f2']\n",
        "f3m = mediaMenos2Dp['f3']\n",
        "f3M = mediaMais2Dp['f3']\n",
        "formantesOmat = [[f0m, f0M], [f1m,f1M], [f2m, f2M] , [f3m, f3M]]\n",
        "formantesOmat\n",
        "\n",
        "mdic = {\"O\": formantesOmat, \"label\": \"experiment\"}\n",
        "\n",
        "savemat(\"matlab_matrixO.mat\", mdic)"
      ]
    },
    {
      "cell_type": "markdown",
      "metadata": {},
      "source": [
        "# Intervalos formantes e f0  vogal U"
      ]
    },
    {
      "cell_type": "code",
      "execution_count": 73,
      "metadata": {},
      "outputs": [
        {
          "data": {
            "text/html": [
              "<div>\n",
              "<style scoped>\n",
              "    .dataframe tbody tr th:only-of-type {\n",
              "        vertical-align: middle;\n",
              "    }\n",
              "\n",
              "    .dataframe tbody tr th {\n",
              "        vertical-align: top;\n",
              "    }\n",
              "\n",
              "    .dataframe thead th {\n",
              "        text-align: right;\n",
              "    }\n",
              "</style>\n",
              "<table border=\"1\" class=\"dataframe\">\n",
              "  <thead>\n",
              "    <tr style=\"text-align: right;\">\n",
              "      <th></th>\n",
              "      <th>Genero</th>\n",
              "      <th>Locutor</th>\n",
              "      <th>Tentativa</th>\n",
              "      <th>Fonema</th>\n",
              "      <th>fo</th>\n",
              "      <th>f1</th>\n",
              "      <th>f2</th>\n",
              "      <th>f3</th>\n",
              "      <th>Codigo</th>\n",
              "    </tr>\n",
              "  </thead>\n",
              "  <tbody>\n",
              "    <tr>\n",
              "      <th>20</th>\n",
              "      <td>1</td>\n",
              "      <td>1</td>\n",
              "      <td>1</td>\n",
              "      <td>UU</td>\n",
              "      <td>128.08</td>\n",
              "      <td>257.88</td>\n",
              "      <td>817.10</td>\n",
              "      <td>1845.90</td>\n",
              "      <td>4.0</td>\n",
              "    </tr>\n",
              "    <tr>\n",
              "      <th>21</th>\n",
              "      <td>1</td>\n",
              "      <td>1</td>\n",
              "      <td>2</td>\n",
              "      <td>UU</td>\n",
              "      <td>120.45</td>\n",
              "      <td>273.17</td>\n",
              "      <td>776.84</td>\n",
              "      <td>2300.80</td>\n",
              "      <td>4.0</td>\n",
              "    </tr>\n",
              "    <tr>\n",
              "      <th>22</th>\n",
              "      <td>1</td>\n",
              "      <td>1</td>\n",
              "      <td>3</td>\n",
              "      <td>UU</td>\n",
              "      <td>124.31</td>\n",
              "      <td>311.15</td>\n",
              "      <td>558.52</td>\n",
              "      <td>2282.90</td>\n",
              "      <td>4.0</td>\n",
              "    </tr>\n",
              "    <tr>\n",
              "      <th>23</th>\n",
              "      <td>1</td>\n",
              "      <td>1</td>\n",
              "      <td>4</td>\n",
              "      <td>UU</td>\n",
              "      <td>125.10</td>\n",
              "      <td>289.75</td>\n",
              "      <td>533.93</td>\n",
              "      <td>1741.70</td>\n",
              "      <td>4.0</td>\n",
              "    </tr>\n",
              "    <tr>\n",
              "      <th>24</th>\n",
              "      <td>1</td>\n",
              "      <td>1</td>\n",
              "      <td>5</td>\n",
              "      <td>UU</td>\n",
              "      <td>126.04</td>\n",
              "      <td>308.73</td>\n",
              "      <td>791.87</td>\n",
              "      <td>2346.80</td>\n",
              "      <td>4.0</td>\n",
              "    </tr>\n",
              "    <tr>\n",
              "      <th>...</th>\n",
              "      <td>...</td>\n",
              "      <td>...</td>\n",
              "      <td>...</td>\n",
              "      <td>...</td>\n",
              "      <td>...</td>\n",
              "      <td>...</td>\n",
              "      <td>...</td>\n",
              "      <td>...</td>\n",
              "      <td>...</td>\n",
              "    </tr>\n",
              "    <tr>\n",
              "      <th>370</th>\n",
              "      <td>1</td>\n",
              "      <td>15</td>\n",
              "      <td>1</td>\n",
              "      <td>UU</td>\n",
              "      <td>116.83</td>\n",
              "      <td>204.29</td>\n",
              "      <td>985.10</td>\n",
              "      <td>2423.80</td>\n",
              "      <td>4.0</td>\n",
              "    </tr>\n",
              "    <tr>\n",
              "      <th>371</th>\n",
              "      <td>1</td>\n",
              "      <td>15</td>\n",
              "      <td>2</td>\n",
              "      <td>UU</td>\n",
              "      <td>113.48</td>\n",
              "      <td>205.57</td>\n",
              "      <td>240.85</td>\n",
              "      <td>367.72</td>\n",
              "      <td>4.0</td>\n",
              "    </tr>\n",
              "    <tr>\n",
              "      <th>372</th>\n",
              "      <td>1</td>\n",
              "      <td>15</td>\n",
              "      <td>3</td>\n",
              "      <td>UU</td>\n",
              "      <td>120.48</td>\n",
              "      <td>195.14</td>\n",
              "      <td>700.17</td>\n",
              "      <td>2299.30</td>\n",
              "      <td>4.0</td>\n",
              "    </tr>\n",
              "    <tr>\n",
              "      <th>373</th>\n",
              "      <td>1</td>\n",
              "      <td>15</td>\n",
              "      <td>4</td>\n",
              "      <td>UU</td>\n",
              "      <td>112.75</td>\n",
              "      <td>270.64</td>\n",
              "      <td>1153.40</td>\n",
              "      <td>2357.60</td>\n",
              "      <td>4.0</td>\n",
              "    </tr>\n",
              "    <tr>\n",
              "      <th>374</th>\n",
              "      <td>1</td>\n",
              "      <td>15</td>\n",
              "      <td>5</td>\n",
              "      <td>UU</td>\n",
              "      <td>119.48</td>\n",
              "      <td>238.79</td>\n",
              "      <td>1219.40</td>\n",
              "      <td>2506.70</td>\n",
              "      <td>4.0</td>\n",
              "    </tr>\n",
              "  </tbody>\n",
              "</table>\n",
              "<p>70 rows × 9 columns</p>\n",
              "</div>"
            ],
            "text/plain": [
              "     Genero  Locutor  Tentativa Fonema      fo      f1       f2       f3  \\\n",
              "20        1        1          1     UU  128.08  257.88   817.10  1845.90   \n",
              "21        1        1          2     UU  120.45  273.17   776.84  2300.80   \n",
              "22        1        1          3     UU  124.31  311.15   558.52  2282.90   \n",
              "23        1        1          4     UU  125.10  289.75   533.93  1741.70   \n",
              "24        1        1          5     UU  126.04  308.73   791.87  2346.80   \n",
              "..      ...      ...        ...    ...     ...     ...      ...      ...   \n",
              "370       1       15          1     UU  116.83  204.29   985.10  2423.80   \n",
              "371       1       15          2     UU  113.48  205.57   240.85   367.72   \n",
              "372       1       15          3     UU  120.48  195.14   700.17  2299.30   \n",
              "373       1       15          4     UU  112.75  270.64  1153.40  2357.60   \n",
              "374       1       15          5     UU  119.48  238.79  1219.40  2506.70   \n",
              "\n",
              "     Codigo  \n",
              "20      4.0  \n",
              "21      4.0  \n",
              "22      4.0  \n",
              "23      4.0  \n",
              "24      4.0  \n",
              "..      ...  \n",
              "370     4.0  \n",
              "371     4.0  \n",
              "372     4.0  \n",
              "373     4.0  \n",
              "374     4.0  \n",
              "\n",
              "[70 rows x 9 columns]"
            ]
          },
          "execution_count": 73,
          "metadata": {},
          "output_type": "execute_result"
        }
      ],
      "source": [
        "# Separando dataframe para vogais com o fonema UU\n",
        "dfHomemU = dfHomem.loc[dfHomem['Fonema'] == \"UU\"]\n",
        "dfHomemU"
      ]
    },
    {
      "cell_type": "code",
      "execution_count": 74,
      "metadata": {},
      "outputs": [
        {
          "name": "stderr",
          "output_type": "stream",
          "text": [
            "C:\\Users\\STORM\\AppData\\Local\\Temp\\ipykernel_91324\\3642215726.py:1: FutureWarning:\n",
            "\n",
            "Dropping of nuisance columns in DataFrame reductions (with 'numeric_only=None') is deprecated; in a future version this will raise TypeError.  Select only valid columns before calling the reduction.\n",
            "\n",
            "C:\\Users\\STORM\\AppData\\Local\\Temp\\ipykernel_91324\\3642215726.py:2: FutureWarning:\n",
            "\n",
            "Dropping of nuisance columns in DataFrame reductions (with 'numeric_only=None') is deprecated; in a future version this will raise TypeError.  Select only valid columns before calling the reduction.\n",
            "\n"
          ]
        }
      ],
      "source": [
        "media = dfHomemU.mean()\n",
        "desvPad = dfHomemU.std()\n",
        "mediaMais2Dp = media+2*desvPad\n",
        "mediaMenos2Dp = media-2*desvPad\n",
        "f0m = mediaMenos2Dp['fo']\n",
        "f0M = mediaMais2Dp['fo']\n",
        "f1m = mediaMenos2Dp['f1']\n",
        "f1M = mediaMais2Dp['f1']\n",
        "f2m = mediaMenos2Dp['f2']\n",
        "f2M = mediaMais2Dp['f2']\n",
        "f3m = mediaMenos2Dp['f3']\n",
        "f3M = mediaMais2Dp['f3']\n",
        "formantesUmat = [[f0m, f0M], [f1m,f1M], [f2m, f2M] , [f3m, f3M]]\n",
        "formantesUmat\n",
        "\n",
        "mdic = {\"U\": formantesUmat, \"label\": \"experiment\"}\n",
        "\n",
        "savemat(\"matlab_matrixU.mat\", mdic)"
      ]
    },
    {
      "cell_type": "markdown",
      "metadata": {
        "id": "YfPKY4CGXOEM"
      },
      "source": [
        "# **Referências**"
      ]
    },
    {
      "cell_type": "markdown",
      "metadata": {
        "id": "hYaC-FrxXR14"
      },
      "source": [
        "https://www.fon.hum.uva.nl/praat/"
      ]
    },
    {
      "cell_type": "markdown",
      "metadata": {
        "id": "jOAGUnQ7XWT4"
      },
      "source": [
        "https://rdrr.io/cran/phonTools/man/pb52.html#heading-3"
      ]
    },
    {
      "cell_type": "markdown",
      "metadata": {
        "id": "GyqzA8boXZqP"
      },
      "source": [
        "http://my.ilstu.edu/~jsawyer/consonantsvowels3/consonantsvowels24.html"
      ]
    }
  ],
  "metadata": {
    "colab": {
      "name": "Voz.ipynb",
      "provenance": []
    },
    "kernelspec": {
      "display_name": "Python 3.9.13 64-bit (windows store)",
      "language": "python",
      "name": "python3"
    },
    "language_info": {
      "codemirror_mode": {
        "name": "ipython",
        "version": 3
      },
      "file_extension": ".py",
      "mimetype": "text/x-python",
      "name": "python",
      "nbconvert_exporter": "python",
      "pygments_lexer": "ipython3",
      "version": "3.9.13"
    },
    "vscode": {
      "interpreter": {
        "hash": "5405d358ce7193976977390717ecdfa00f4a32b6b43d10fb8824297b8cc6d47c"
      }
    }
  },
  "nbformat": 4,
  "nbformat_minor": 0
}
